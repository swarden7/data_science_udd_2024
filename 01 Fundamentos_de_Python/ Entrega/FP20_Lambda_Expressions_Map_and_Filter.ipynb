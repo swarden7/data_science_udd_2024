{
  "nbformat": 4,
  "nbformat_minor": 0,
  "metadata": {
    "kernelspec": {
      "display_name": "Python 3 (ipykernel)",
      "language": "python",
      "name": "python3"
    },
    "language_info": {
      "codemirror_mode": {
        "name": "ipython",
        "version": 3
      },
      "file_extension": ".py",
      "mimetype": "text/x-python",
      "name": "python",
      "nbconvert_exporter": "python",
      "pygments_lexer": "ipython3",
      "version": "3.8.11"
    },
    "colab": {
      "provenance": []
    }
  },
  "cells": [
    {
      "cell_type": "markdown",
      "metadata": {
        "id": "5H371uVRVQa5"
      },
      "source": [
        "# **Introducción a Python**\n",
        "# FP20. Expresiones Lambda, Map y Filter"
      ]
    },
    {
      "cell_type": "markdown",
      "metadata": {
        "id": "cboFi8FzVQa_"
      },
      "source": [
        "Ahora es el momento de aprender sobre dos funciones integradas, `filter` y `map`. Una vez que aprendamos cómo funcionan, podemos aprender sobre la expresión `lambda`, que será útil cuando comiences a desarrollar más tus habilidades."
      ]
    },
    {
      "cell_type": "markdown",
      "metadata": {
        "id": "owNzerYJVQa_"
      },
      "source": [
        "## <font color='blue'>**Función `map()`**</font>\n",
        "La función `map()` te permite \"asignar\" una función a un objeto iterable (e.g. un string o una lista). Es decir, puedes llamar rápidamente a la misma función para todos los elementos que constituyen el objeto iterable.<br>\n",
        "Veamos un ejemplo:"
      ]
    },
    {
      "cell_type": "code",
      "metadata": {
        "id": "ZOPew8c1VQbA"
      },
      "source": [
        "# Definimos una función\n",
        "def square(num):\n",
        "    return num ** 2"
      ],
      "execution_count": 63,
      "outputs": []
    },
    {
      "cell_type": "code",
      "metadata": {
        "id": "BIdlzY4rVQbC"
      },
      "source": [
        "# Y ahora una lista\n",
        "my_nums = [1, 2, 3, 4, 5]"
      ],
      "execution_count": 64,
      "outputs": []
    },
    {
      "cell_type": "markdown",
      "metadata": {
        "id": "YLHYTBNJVQbC"
      },
      "source": [
        "Aplicamos `map` a la función y la lista (iterable)"
      ]
    },
    {
      "cell_type": "code",
      "metadata": {
        "id": "2jPVHiXnVQbC",
        "colab": {
          "base_uri": "https://localhost:8080/"
        },
        "outputId": "7a228982-077b-4d58-d722-a93610677959"
      },
      "source": [
        "map(square, my_nums)"
      ],
      "execution_count": 65,
      "outputs": [
        {
          "output_type": "execute_result",
          "data": {
            "text/plain": [
              "<map at 0x7bd7dc5c8f10>"
            ]
          },
          "metadata": {},
          "execution_count": 65
        }
      ]
    },
    {
      "cell_type": "markdown",
      "metadata": {
        "id": "3Jr0pkWHVQbE"
      },
      "source": [
        "No nos devuelve nada porque es un iterable. Hay que iterar sobre él, o desempaquetarlo o convertirlo en otro objeto (lista)."
      ]
    },
    {
      "cell_type": "code",
      "metadata": {
        "id": "YfDFFrIvVQbF",
        "colab": {
          "base_uri": "https://localhost:8080/"
        },
        "outputId": "c3380bcb-2426-433d-90da-3b6262101b57"
      },
      "source": [
        "# Iteramos sobre el objeto map\n",
        "for i in map(square, my_nums):\n",
        "    print(i, end=' ')"
      ],
      "execution_count": 66,
      "outputs": [
        {
          "output_type": "stream",
          "name": "stdout",
          "text": [
            "1 4 9 16 25 "
          ]
        }
      ]
    },
    {
      "cell_type": "code",
      "metadata": {
        "id": "ncbI8DewVQbG",
        "colab": {
          "base_uri": "https://localhost:8080/"
        },
        "outputId": "4b572b5f-fed8-4ab7-8477-9cd36fd83e47"
      },
      "source": [
        "# Lo desempaquetamos dentro de un print()\n",
        "print(*map(square, my_nums))"
      ],
      "execution_count": 67,
      "outputs": [
        {
          "output_type": "stream",
          "name": "stdout",
          "text": [
            "1 4 9 16 25\n"
          ]
        }
      ]
    },
    {
      "cell_type": "code",
      "metadata": {
        "id": "nTl4ovuHVQbH",
        "colab": {
          "base_uri": "https://localhost:8080/"
        },
        "outputId": "466fb2e3-aa10-4bde-e48f-6745ef7b44c8"
      },
      "source": [
        "# O simplemente lo ponermos como argumento de la función list\n",
        "list(map(square, my_nums))"
      ],
      "execution_count": 68,
      "outputs": [
        {
          "output_type": "execute_result",
          "data": {
            "text/plain": [
              "[1, 4, 9, 16, 25]"
            ]
          },
          "metadata": {},
          "execution_count": 68
        }
      ]
    },
    {
      "cell_type": "code",
      "source": [
        "mynames = ['Juan', 'Andrea', 'Julia', 'Beto', 'Zoe']"
      ],
      "metadata": {
        "id": "-junpwc8-Raw"
      },
      "execution_count": 69,
      "outputs": []
    },
    {
      "cell_type": "code",
      "source": [
        "func_lower = str.lower"
      ],
      "metadata": {
        "id": "WtivFVOB-Tcm"
      },
      "execution_count": 70,
      "outputs": []
    },
    {
      "cell_type": "code",
      "source": [
        "map(func_lower, mynames)"
      ],
      "metadata": {
        "colab": {
          "base_uri": "https://localhost:8080/"
        },
        "id": "C9XNCI2Q-wIG",
        "outputId": "97cdb307-480a-40b8-901a-953a52fa019e"
      },
      "execution_count": 71,
      "outputs": [
        {
          "output_type": "execute_result",
          "data": {
            "text/plain": [
              "<map at 0x7bd7dc5cb160>"
            ]
          },
          "metadata": {},
          "execution_count": 71
        }
      ]
    },
    {
      "cell_type": "code",
      "source": [
        "list(map(func_lower, mynames))"
      ],
      "metadata": {
        "colab": {
          "base_uri": "https://localhost:8080/"
        },
        "id": "HUD9W9Pb_XNo",
        "outputId": "ca7db9a5-0596-4102-bf73-3c848a545155"
      },
      "execution_count": 72,
      "outputs": [
        {
          "output_type": "execute_result",
          "data": {
            "text/plain": [
              "['juan', 'andrea', 'julia', 'beto', 'zoe']"
            ]
          },
          "metadata": {},
          "execution_count": 72
        }
      ]
    },
    {
      "cell_type": "markdown",
      "metadata": {
        "id": "debHqFPDVQbH"
      },
      "source": [
        "Las funciones pueden ser mucho más complejas"
      ]
    },
    {
      "cell_type": "code",
      "metadata": {
        "id": "T3QFDFK_VQbI"
      },
      "source": [
        "def splicer(mystring):\n",
        "    if len(mystring) % 2 == 0:\n",
        "        return 'es par'\n",
        "    else:\n",
        "        return 'es impar'"
      ],
      "execution_count": 73,
      "outputs": []
    },
    {
      "cell_type": "code",
      "metadata": {
        "id": "vjJVVHNlVQbI"
      },
      "source": [
        "mynames = ['Juan', 'Andrea', 'Julia', 'Beto', 'Zoe']"
      ],
      "execution_count": 74,
      "outputs": []
    },
    {
      "cell_type": "code",
      "metadata": {
        "id": "GF5KjtYNVQbJ",
        "colab": {
          "base_uri": "https://localhost:8080/"
        },
        "outputId": "39aac516-cb7a-4044-fb84-98888256bddf"
      },
      "source": [
        "list(map(splicer,mynames))"
      ],
      "execution_count": 75,
      "outputs": [
        {
          "output_type": "execute_result",
          "data": {
            "text/plain": [
              "['es par', 'es par', 'es impar', 'es par', 'es impar']"
            ]
          },
          "metadata": {},
          "execution_count": 75
        }
      ]
    },
    {
      "cell_type": "code",
      "source": [
        "mi_texto = ['HOLA','chao']\n",
        "upper = str.lower\n",
        "list(map(upper,mi_texto))"
      ],
      "metadata": {
        "colab": {
          "base_uri": "https://localhost:8080/"
        },
        "id": "gRX4kdD6_lGC",
        "outputId": "f538b037-2a12-4e5c-a6fd-83732cf95996"
      },
      "execution_count": 76,
      "outputs": [
        {
          "output_type": "execute_result",
          "data": {
            "text/plain": [
              "['hola', 'chao']"
            ]
          },
          "metadata": {},
          "execution_count": 76
        }
      ]
    },
    {
      "cell_type": "markdown",
      "metadata": {
        "id": "-CuYOt4tVQbK"
      },
      "source": [
        "## <font color='blue'>**Función `filter()`**</font>\n",
        "\n",
        "La función `filter()` devuelve un iterador donde los elementos se filtran a través de una función para probar si el elemento es aceptado o no, i.e., que cumpla con una confición o no. Esto qué significa? Que debe filtrar por una función que devuelva `True` o `False`."
      ]
    },
    {
      "cell_type": "code",
      "metadata": {
        "id": "E63xYDv1VQbK"
      },
      "source": [
        "def check_even(num):\n",
        "    \"\"\"\n",
        "    Esta función chequea si el número ingresado es par o impar\n",
        "    Devuelve True o False\n",
        "    \"\"\"\n",
        "    return num % 2 == 0"
      ],
      "execution_count": 77,
      "outputs": []
    },
    {
      "cell_type": "code",
      "metadata": {
        "id": "PZ0rLp2nVQbK",
        "colab": {
          "base_uri": "https://localhost:8080/"
        },
        "outputId": "d14b6895-b7bf-4622-9d71-ea443ff8a23e"
      },
      "source": [
        "check_even(3)"
      ],
      "execution_count": 78,
      "outputs": [
        {
          "output_type": "execute_result",
          "data": {
            "text/plain": [
              "False"
            ]
          },
          "metadata": {},
          "execution_count": 78
        }
      ]
    },
    {
      "cell_type": "code",
      "metadata": {
        "id": "BV_McKpmVQbL",
        "colab": {
          "base_uri": "https://localhost:8080/"
        },
        "outputId": "3599563d-618e-4594-8e6b-2d53552fc320"
      },
      "source": [
        "check_even(8)"
      ],
      "execution_count": 79,
      "outputs": [
        {
          "output_type": "execute_result",
          "data": {
            "text/plain": [
              "True"
            ]
          },
          "metadata": {},
          "execution_count": 79
        }
      ]
    },
    {
      "cell_type": "code",
      "metadata": {
        "id": "cG1KrfsdVQbL"
      },
      "source": [
        "nums = [0, 1, 2, 3, 4, 5, 6, 7, 8, 9, 10]"
      ],
      "execution_count": 80,
      "outputs": []
    },
    {
      "cell_type": "markdown",
      "metadata": {
        "id": "UxB2o6G2VQbM"
      },
      "source": [
        "Apliquémosla a una lista con una función `filter()`"
      ]
    },
    {
      "cell_type": "code",
      "metadata": {
        "id": "SQx576ehVQbM",
        "colab": {
          "base_uri": "https://localhost:8080/"
        },
        "outputId": "84e92b31-d99c-4f8a-ffc6-95b143fd4fda"
      },
      "source": [
        "filter(check_even, nums)"
      ],
      "execution_count": 81,
      "outputs": [
        {
          "output_type": "execute_result",
          "data": {
            "text/plain": [
              "<filter at 0x7bd7dc68ab60>"
            ]
          },
          "metadata": {},
          "execution_count": 81
        }
      ]
    },
    {
      "cell_type": "markdown",
      "metadata": {
        "id": "os8q0myHVQbM"
      },
      "source": [
        "Nuevamente nos devuelve un iterador"
      ]
    },
    {
      "cell_type": "code",
      "metadata": {
        "id": "f0yUITjaVQbM",
        "colab": {
          "base_uri": "https://localhost:8080/"
        },
        "outputId": "5652807e-a162-405f-b688-4a7a47082c39"
      },
      "source": [
        "even = filter(check_even, nums)\n",
        "print(*even)"
      ],
      "execution_count": 82,
      "outputs": [
        {
          "output_type": "stream",
          "name": "stdout",
          "text": [
            "0 2 4 6 8 10\n"
          ]
        }
      ]
    },
    {
      "cell_type": "markdown",
      "source": [
        "<img src=\"data:image/png;base64,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\" width=\"100\" align=\"left\" title=\"Runa-perth\">\n",
        "<br clear=\"left\">\n",
        "Contenido opcional\n",
        "\n"
      ],
      "metadata": {
        "id": "XOFrR5_JIfsL"
      }
    },
    {
      "cell_type": "markdown",
      "metadata": {
        "id": "P7FV2z6PVQbN"
      },
      "source": [
        "## <font color='blue'>**Generators (generadores)**</font>\n",
        "\n",
        "Los generadores (**generators**) fueron introducidos en el [PEP255](https://www.python.org/dev/peps/pep-0255/). Son funciones especiales que retornan un iterador de tipo *lazzy*. Una **evaluación lazzy** es aquella que retrasa la evaluación de una expresión hasta el momento preciso en que se necesita su valor (evaluación no estricta) y no inmediatamente cuando aparece en nuestro código.\n",
        "\n",
        "Como resultado de la generación *lazzy* (bajo demanda) de valores, se produce una mejora del rendimiento y un menor uso de memoria. Además, no necesitamos esperar hasta que se hayan generado todos los elementos antes de empezar a utilizarlos. Esto es similar a los beneficios proporcionados por los iteradores."
      ]
    },
    {
      "cell_type": "code",
      "metadata": {
        "id": "K3-BrQPyVQbN"
      },
      "source": [
        "generador = filter(check_even, nums)"
      ],
      "execution_count": 83,
      "outputs": []
    },
    {
      "cell_type": "code",
      "metadata": {
        "id": "b34T4-AlVQbN",
        "colab": {
          "base_uri": "https://localhost:8080/"
        },
        "outputId": "2151e13f-05e4-4464-ce91-8ba57620f6f9"
      },
      "source": [
        "generador"
      ],
      "execution_count": 84,
      "outputs": [
        {
          "output_type": "execute_result",
          "data": {
            "text/plain": [
              "<filter at 0x7bd7dc6881c0>"
            ]
          },
          "metadata": {},
          "execution_count": 84
        }
      ]
    },
    {
      "cell_type": "code",
      "metadata": {
        "id": "y0_v3lS0VQbO",
        "colab": {
          "base_uri": "https://localhost:8080/"
        },
        "outputId": "b16ab2ed-2318-4e51-b5a1-e5fb0005390e"
      },
      "source": [
        "# Ejecuta esta celda repetidas veces, verás como next( ) nos entrega un valor a la vez.\n",
        "# Le pide a la función 'check_even' que genere un valor a la vez.\n",
        "# Nota que en algún punto el generador se agota y ya no entrega más valores y devuelve un error\n",
        "# de 'StopIteration'\n",
        "\n",
        "next(generador)"
      ],
      "execution_count": 85,
      "outputs": [
        {
          "output_type": "execute_result",
          "data": {
            "text/plain": [
              "0"
            ]
          },
          "metadata": {},
          "execution_count": 85
        }
      ]
    },
    {
      "cell_type": "markdown",
      "metadata": {
        "id": "13ehNHOrVQbO"
      },
      "source": [
        "Si quieres utilizar el generador deberás recrearlo nuevamente:\n",
        "```Python\n",
        "generador = filter(check_even, nums)\n",
        "```\n",
        "Como te habrás fijado, el generador devuelve un valor a la vez, lo cual es muy eficiente para el uso de memoria. Por ejemplo, si desempaquetas todos los elementos con una lista (`list()`):\n",
        "```Python\n",
        "list(generador)\n",
        "```\n",
        "... estarás utilizando el máximo de memoria asociado a la operación; si el generador es muy grande, podrías complicar el uso de memoria en tu equipo."
      ]
    },
    {
      "cell_type": "code",
      "metadata": {
        "id": "CyW_x9_rVQbO",
        "colab": {
          "base_uri": "https://localhost:8080/"
        },
        "outputId": "9303cd5e-ff2d-4df2-db97-cb04df1144c4"
      },
      "source": [
        "# La función map() también devuelve un generador\n",
        "a = map(square, my_nums)\n",
        "next(a)"
      ],
      "execution_count": 86,
      "outputs": [
        {
          "output_type": "execute_result",
          "data": {
            "text/plain": [
              "1"
            ]
          },
          "metadata": {},
          "execution_count": 86
        }
      ]
    },
    {
      "cell_type": "code",
      "metadata": {
        "id": "P0I4xQYpVQbP",
        "colab": {
          "base_uri": "https://localhost:8080/"
        },
        "outputId": "c9023424-fe37-47db-c688-c5b38daf4a4e"
      },
      "source": [
        "next(a)"
      ],
      "execution_count": 87,
      "outputs": [
        {
          "output_type": "execute_result",
          "data": {
            "text/plain": [
              "4"
            ]
          },
          "metadata": {},
          "execution_count": 87
        }
      ]
    },
    {
      "cell_type": "markdown",
      "metadata": {
        "id": "QwZ4MlbbVQbP"
      },
      "source": [
        "## <font color='blue'>**Funciones de usuario generadoras**</font>"
      ]
    },
    {
      "cell_type": "markdown",
      "metadata": {
        "id": "yAjyxMM_VQbP"
      },
      "source": [
        "Podemos definir nuestras propias funciones generadores, para ello utilizaremos la expresión `yield` en vez de `return` en ellas."
      ]
    },
    {
      "cell_type": "code",
      "metadata": {
        "id": "xKyDLVJsVQbP"
      },
      "source": [
        "# Definimos una función generadora\n",
        "# Nota el uso de 'yield' en vez de 'return'\n",
        "\n",
        "def secuencia_infinita():\n",
        "    num = 0\n",
        "    while True:\n",
        "        yield num\n",
        "        num += 1"
      ],
      "execution_count": 88,
      "outputs": []
    },
    {
      "cell_type": "code",
      "metadata": {
        "id": "8VfheX0gVQbP"
      },
      "source": [
        "# Creamos un generador\n",
        "\n",
        "generador_2 = secuencia_infinita()"
      ],
      "execution_count": 89,
      "outputs": []
    },
    {
      "cell_type": "code",
      "metadata": {
        "id": "N5kbThoAVQbP",
        "colab": {
          "base_uri": "https://localhost:8080/"
        },
        "outputId": "ce8c2531-651c-4b33-a3fc-c04446268670"
      },
      "source": [
        "next(generador_2)"
      ],
      "execution_count": 90,
      "outputs": [
        {
          "output_type": "execute_result",
          "data": {
            "text/plain": [
              "0"
            ]
          },
          "metadata": {},
          "execution_count": 90
        }
      ]
    },
    {
      "cell_type": "code",
      "metadata": {
        "id": "kqwwPItGVQbQ",
        "colab": {
          "base_uri": "https://localhost:8080/"
        },
        "outputId": "c546b0d1-6d1f-48d4-cf68-f5f9ddf3d609"
      },
      "source": [
        "next(generador_2)"
      ],
      "execution_count": 91,
      "outputs": [
        {
          "output_type": "execute_result",
          "data": {
            "text/plain": [
              "1"
            ]
          },
          "metadata": {},
          "execution_count": 91
        }
      ]
    },
    {
      "cell_type": "code",
      "metadata": {
        "id": "SSZy0LgaVQbQ"
      },
      "source": [
        "generador_2.close()"
      ],
      "execution_count": 92,
      "outputs": []
    },
    {
      "cell_type": "code",
      "metadata": {
        "id": "er_BGIOiVQbQ",
        "colab": {
          "base_uri": "https://localhost:8080/",
          "height": 158
        },
        "outputId": "6c1c6aa0-d19b-4b23-85f6-5e019a83663a"
      },
      "source": [
        "# Esta celda dará un error ya que hemos cerrado (close) el generador\n",
        "next(generador_2)"
      ],
      "execution_count": 93,
      "outputs": [
        {
          "output_type": "error",
          "ename": "StopIteration",
          "evalue": "",
          "traceback": [
            "\u001b[0;31m---------------------------------------------------------------------------\u001b[0m",
            "\u001b[0;31mStopIteration\u001b[0m                             Traceback (most recent call last)",
            "\u001b[0;32m<ipython-input-93-1be2a4e1717f>\u001b[0m in \u001b[0;36m<cell line: 2>\u001b[0;34m()\u001b[0m\n\u001b[1;32m      1\u001b[0m \u001b[0;31m# Esta celda dará un error ya que hemos cerrado (close) el generador\u001b[0m\u001b[0;34m\u001b[0m\u001b[0;34m\u001b[0m\u001b[0m\n\u001b[0;32m----> 2\u001b[0;31m \u001b[0mnext\u001b[0m\u001b[0;34m(\u001b[0m\u001b[0mgenerador_2\u001b[0m\u001b[0;34m)\u001b[0m\u001b[0;34m\u001b[0m\u001b[0;34m\u001b[0m\u001b[0m\n\u001b[0m",
            "\u001b[0;31mStopIteration\u001b[0m: "
          ]
        }
      ]
    },
    {
      "cell_type": "markdown",
      "source": [
        "## <font color='blue'>__Ejercicios__</font>"
      ],
      "metadata": {
        "id": "WIEOudTsI-cm"
      }
    },
    {
      "cell_type": "markdown",
      "metadata": {
        "id": "wSvgSf41VQbQ"
      },
      "source": [
        "### <font color='green'>Actividad 1: </font>\n",
        "### Crea un generador\n",
        "Desarrolla un generador utilizando la función `map()` aplicando una función a una lista"
      ]
    },
    {
      "cell_type": "code",
      "metadata": {
        "id": "ARhHez1xVQbQ",
        "colab": {
          "base_uri": "https://localhost:8080/"
        },
        "outputId": "cdc2fe46-bcdd-4393-f647-95d22899dfbe"
      },
      "source": [
        "# Tu código aquí ...\n",
        "\n",
        "# Definimos la lista de números\n",
        "numeros = [1, 2, 3, 4, 5, 6, 7, 8, 9, 10]\n",
        "\n",
        "# Definimos la función que vamos a aplicar a cada elemento de la lista\n",
        "def cuadrado(x):\n",
        "    return x ** 2\n",
        "\n",
        "\n",
        "generador = iter(map(cuadrado, numeros))\n",
        "\n",
        "\n",
        "for resultado in generador:\n",
        "    print(resultado)"
      ],
      "execution_count": 94,
      "outputs": [
        {
          "output_type": "stream",
          "name": "stdout",
          "text": [
            "1\n",
            "4\n",
            "9\n",
            "16\n",
            "25\n",
            "36\n",
            "49\n",
            "64\n",
            "81\n",
            "100\n"
          ]
        }
      ]
    },
    {
      "cell_type": "markdown",
      "metadata": {
        "id": "LzOexuimVQbR"
      },
      "source": [
        "<font color='green'>Fin actividad 1</font>"
      ]
    },
    {
      "cell_type": "markdown",
      "metadata": {
        "id": "FZfrp7h8VQbR"
      },
      "source": [
        "### <font color='green'>Actividad 2: Challenging</font>\n",
        "### Crea un generador de lectura de archivos\n",
        "Desarrolla un generador para leer un archivo (supuestamente muy) grande\n",
        "\n",
        "Pasos:\n",
        "1. Crea una función llamada **txt_reader** que reciba el nombre de un archivo y lo abra en modo lectura\n",
        "2. Haz que la función recorra las líneas del archivo con un ciclo for\n",
        "3. Retorna cada línea leída con un `yield`\n",
        "4. Crea un generador asociado a tu funcion generadora\n",
        "4. Prueba tu generador con la función `next()` y `close()`.\n",
        "\n",
        "Tip:<br>\n",
        "1. Utiliza esta estructura\n",
        "```python\n",
        "def txt_reader(file_name):\n",
        "    with open ... # Abre el archivo de forma pythonista\n",
        "        for ...:  # recórrelo\n",
        "        yield row\n",
        "```\n",
        "2. Prueba tu función generadora con el archivo ***poblaciones.txt***\n",
        "3. Recuerda corregir la ruta de acceso si estás trabajando en la nube."
      ]
    },
    {
      "cell_type": "code",
      "source": [
        "from google.colab import drive\n",
        "drive.mount('/content/drive/')"
      ],
      "metadata": {
        "colab": {
          "base_uri": "https://localhost:8080/"
        },
        "id": "t8d6Lop7IGIJ",
        "outputId": "194fd2ee-7cf9-45ad-b817-42f11eea9c8e"
      },
      "execution_count": 95,
      "outputs": [
        {
          "output_type": "stream",
          "name": "stdout",
          "text": [
            "Drive already mounted at /content/drive/; to attempt to forcibly remount, call drive.mount(\"/content/drive/\", force_remount=True).\n"
          ]
        }
      ]
    },
    {
      "cell_type": "code",
      "metadata": {
        "id": "0km0P6IpVQbR",
        "colab": {
          "base_uri": "https://localhost:8080/"
        },
        "outputId": "fd83ff93-68d1-4868-edc1-41959cac52b2"
      },
      "source": [
        "# Tu código aquí ...\n",
        "\n",
        "def txt_reader(file_name):\n",
        "    # Abrimos el archivo en modo de lectura de forma pythonista\n",
        "    with open(file_name, 'r') as file:\n",
        "        # Iteramos sobre cada línea del archivo\n",
        "        for row in file:\n",
        "            # Devolvemos cada línea con yield\n",
        "            yield row\n",
        "\n",
        "# Prueba del generador\n",
        "# Suponiendo que tienes un archivo llamado 'poblaciones.txt' en el mismo directorio\n",
        "generador = txt_reader('/content/drive/MyDrive/Gonzalo/Clase 5/poblaciones.txt')\n",
        "\n",
        "# Usamos next() para leer la primera línea del archivo\n",
        "print(next(generador))  # Imprime la primera línea del archivo\n",
        "\n",
        "# Puedes llamar a next() nuevamente para obtener la siguiente línea\n",
        "print(next(generador))  # Imprime la segunda línea del archivo\n",
        "\n",
        "# Cuando ya no necesites más líneas, cierra el generador\n",
        "generador.close()"
      ],
      "execution_count": 96,
      "outputs": [
        {
          "output_type": "stream",
          "name": "stdout",
          "text": [
            "China 1.338\n",
            "\n",
            "India 1.180\n",
            "\n"
          ]
        }
      ]
    },
    {
      "cell_type": "markdown",
      "metadata": {
        "id": "wxDXPQkDVQbS"
      },
      "source": [
        "<font color='green'>Fin actividad 2</font>"
      ]
    },
    {
      "cell_type": "markdown",
      "source": [
        "<img src=\"data:image/png;base64,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\" width=\"50\" align=\"left\" title=\"Runa-perth\">\n",
        "<br clear=\"left\">"
      ],
      "metadata": {
        "id": "oZOd2A2SIWPN"
      }
    },
    {
      "cell_type": "markdown",
      "metadata": {
        "id": "MX_Xq5soVQbS"
      },
      "source": [
        "## <font color='blue'>**Expresiones `lambda`**</font>\n",
        "\n",
        "Una de las herramientas más útiles de Python (y potencialmente confusa) es la expresión `lambda`. Las expresiones `lambda` nos permiten crear funciones \"anónimas\", es decir, sin nombre. Básicamente, esto significa que podemos crear funciones ad-hoc rápidamente sin necesidad de definir correctamente una función usando `def`.\n",
        "\n",
        "Los objetos de función devueltos al ejecutar expresiones `lambda` funcionan exactamente igual que los creados y asignados por `def`.\n",
        "\n",
        "Existe una diferencia clave que hace que lambda sea útil en roles especializados:\n",
        "\n",
        "* El cuerpo de `lambda` es una expresión única, no un bloque de declaraciones.\n",
        "\n",
        "* Debido a que se limita a una expresión, una `lambda` es menos general que una `def`.\n",
        "\n",
        "* `lambda` está diseñado para codificar funciones simples y `def` maneja las tareas más grandes y complejas.\n",
        "\n",
        "* Las funciones `def` son reutilizables, las `lambda` no."
      ]
    },
    {
      "cell_type": "markdown",
      "metadata": {
        "id": "XdAguhhJVQbS"
      },
      "source": [
        "Analicemos lentamente una expresión lambda deconstruyendo una función:"
      ]
    },
    {
      "cell_type": "code",
      "metadata": {
        "id": "w_kYYBxJVQbS"
      },
      "source": [
        "def square(num):\n",
        "    \"\"\"\n",
        "    Esta función calcula el cuadrado de un número\n",
        "    \"\"\"\n",
        "    result = num ** 2\n",
        "    return result"
      ],
      "execution_count": 97,
      "outputs": []
    },
    {
      "cell_type": "code",
      "metadata": {
        "id": "478eZvjzVQbS",
        "colab": {
          "base_uri": "https://localhost:8080/"
        },
        "outputId": "a2e17b7f-94c4-43e0-e3d2-902cee754dcd"
      },
      "source": [
        "square(2)"
      ],
      "execution_count": 98,
      "outputs": [
        {
          "output_type": "execute_result",
          "data": {
            "text/plain": [
              "4"
            ]
          },
          "metadata": {},
          "execution_count": 98
        }
      ]
    },
    {
      "cell_type": "markdown",
      "metadata": {
        "id": "eiRgyQpjVQbS"
      },
      "source": [
        "La podemos simplificar así:"
      ]
    },
    {
      "cell_type": "code",
      "metadata": {
        "id": "GZJVsIAMVQbS"
      },
      "source": [
        "def square(num):\n",
        "    return num ** 2"
      ],
      "execution_count": 99,
      "outputs": []
    },
    {
      "cell_type": "code",
      "metadata": {
        "id": "BwWt9IeIVQbT",
        "colab": {
          "base_uri": "https://localhost:8080/"
        },
        "outputId": "808320ee-9ad0-48cc-fea5-268117410baf"
      },
      "source": [
        "square(2)"
      ],
      "execution_count": 100,
      "outputs": [
        {
          "output_type": "execute_result",
          "data": {
            "text/plain": [
              "4"
            ]
          },
          "metadata": {},
          "execution_count": 100
        }
      ]
    },
    {
      "cell_type": "markdown",
      "metadata": {
        "id": "iHt64628VQbT"
      },
      "source": [
        "Idiomáticamente hablando, incluso podríamos escribir todo esto en una sola línea."
      ]
    },
    {
      "cell_type": "code",
      "metadata": {
        "id": "p_la0SzDVQbT"
      },
      "source": [
        "def square(num): return num ** 2"
      ],
      "execution_count": 101,
      "outputs": []
    },
    {
      "cell_type": "code",
      "metadata": {
        "id": "Y_8o9akNVQbT",
        "colab": {
          "base_uri": "https://localhost:8080/"
        },
        "outputId": "acbbc2c0-ee91-471e-cc80-352e01c809e5"
      },
      "source": [
        "square(2)"
      ],
      "execution_count": 102,
      "outputs": [
        {
          "output_type": "execute_result",
          "data": {
            "text/plain": [
              "4"
            ]
          },
          "metadata": {},
          "execution_count": 102
        }
      ]
    },
    {
      "cell_type": "markdown",
      "metadata": {
        "id": "SQV6ON0VVQbT"
      },
      "source": [
        "Esta es justamente la forma que una expresión *`lambda`* intenta replicar. Una expresión *`lambda`* se puede escribir como:"
      ]
    },
    {
      "cell_type": "code",
      "metadata": {
        "id": "i29xZxNFVQbT",
        "colab": {
          "base_uri": "https://localhost:8080/"
        },
        "outputId": "0a26fc16-c852-42eb-bd48-c79a9618767f"
      },
      "source": [
        "lambda num: num ** 2"
      ],
      "execution_count": 103,
      "outputs": [
        {
          "output_type": "execute_result",
          "data": {
            "text/plain": [
              "<function __main__.<lambda>(num)>"
            ]
          },
          "metadata": {},
          "execution_count": 103
        }
      ]
    },
    {
      "cell_type": "code",
      "metadata": {
        "id": "PcXRikPCVQbT"
      },
      "source": [
        "# Normalmente, no asignaremos una variable a una expresión lambda\n",
        "# esto es solo para demostración!\n",
        "\n",
        "square = lambda num: num **2"
      ],
      "execution_count": 104,
      "outputs": []
    },
    {
      "cell_type": "code",
      "metadata": {
        "id": "21rw28mBVQbT",
        "colab": {
          "base_uri": "https://localhost:8080/"
        },
        "outputId": "ddb74b80-6954-44f2-fb6d-0c1e754fcac7"
      },
      "source": [
        "square(2)"
      ],
      "execution_count": 105,
      "outputs": [
        {
          "output_type": "execute_result",
          "data": {
            "text/plain": [
              "4"
            ]
          },
          "metadata": {},
          "execution_count": 105
        }
      ]
    },
    {
      "cell_type": "markdown",
      "metadata": {
        "id": "gof6i5FnVQbU"
      },
      "source": [
        "Entonces, ¿por qué usaríamos esto?\n",
        "\n",
        "Muchas llamadas a funciones necesitan una función creada anteriormente (más arriba en nuestro código), como en los casos de `map` y `filter`. Sin embargo, a veces solo se necesita usar la función una vez, por lo que en lugar de definirla formalmente con `def`), usamos una expresión `lambda`.\n",
        "\n",
        "Repitamos algunos de los ejemplos anteriores con una expresión `lambda`."
      ]
    },
    {
      "cell_type": "code",
      "metadata": {
        "id": "hrscxHo4VQbU",
        "colab": {
          "base_uri": "https://localhost:8080/"
        },
        "outputId": "3ea8a022-2ad6-41ac-d28d-eba88658b0ef"
      },
      "source": [
        "list(map(lambda num: num ** 2, my_nums))"
      ],
      "execution_count": 106,
      "outputs": [
        {
          "output_type": "execute_result",
          "data": {
            "text/plain": [
              "[1, 4, 9, 16, 25]"
            ]
          },
          "metadata": {},
          "execution_count": 106
        }
      ]
    },
    {
      "cell_type": "code",
      "metadata": {
        "id": "Wl4LtqfGVQbU",
        "colab": {
          "base_uri": "https://localhost:8080/"
        },
        "outputId": "e9c65bad-8ec2-49ec-deef-afdb80932f7a"
      },
      "source": [
        "list(filter(lambda n: n % 2 == 0, nums))"
      ],
      "execution_count": 107,
      "outputs": [
        {
          "output_type": "execute_result",
          "data": {
            "text/plain": [
              "[0, 2, 4, 6, 8, 10]"
            ]
          },
          "metadata": {},
          "execution_count": 107
        }
      ]
    },
    {
      "cell_type": "markdown",
      "metadata": {
        "id": "msVQz6mjVQbU"
      },
      "source": [
        "Ten en cuenta que cuanto más compleja sea una función, más difícil será traducirla a una expresión `lambda`, lo que significa que a veces es más fácil (y a menudo la única forma) crear la función con `def`.\n",
        "\n",
        "A continuación algunos ejemplos más."
      ]
    },
    {
      "cell_type": "markdown",
      "metadata": {
        "id": "eAVXIeaVVQbU"
      },
      "source": [
        "### Expresión `lambda` para capturar el primer caracter de una cadena"
      ]
    },
    {
      "cell_type": "code",
      "metadata": {
        "id": "fy3da_xjVQbU",
        "colab": {
          "base_uri": "https://localhost:8080/"
        },
        "outputId": "17d5519c-be31-46ed-9959-fee6c175e341"
      },
      "source": [
        "cadena = lambda s: s[0]\n",
        "print(cadena('Hola'))"
      ],
      "execution_count": 108,
      "outputs": [
        {
          "output_type": "stream",
          "name": "stdout",
          "text": [
            "H\n"
          ]
        }
      ]
    },
    {
      "cell_type": "markdown",
      "metadata": {
        "id": "yLGhvqE5VQbU"
      },
      "source": [
        "### Expresión `lambda` para invertir una cadena"
      ]
    },
    {
      "cell_type": "code",
      "metadata": {
        "id": "QjAnO01kVQbU",
        "colab": {
          "base_uri": "https://localhost:8080/"
        },
        "outputId": "88c81424-44df-409d-9a05-8bfa05cc0d61"
      },
      "source": [
        "cadena_invertida = lambda s: s[::-1]\n",
        "print(cadena_invertida('Hola'))"
      ],
      "execution_count": 109,
      "outputs": [
        {
          "output_type": "stream",
          "name": "stdout",
          "text": [
            "aloH\n"
          ]
        }
      ]
    },
    {
      "cell_type": "markdown",
      "metadata": {
        "id": "ifHkLAFrVQbU"
      },
      "source": [
        "Incluso puedes pasar varios argumentos a una expresión `lambda`. Nuevamente, ten en cuenta que no todas las funciones se pueden traducir a una expresión `lambda`."
      ]
    },
    {
      "cell_type": "markdown",
      "metadata": {
        "id": "tCT-p7NIVQbU"
      },
      "source": [
        "### Expresión `lambda` para sumar dos números"
      ]
    },
    {
      "cell_type": "code",
      "metadata": {
        "id": "h2EBkUn_VQbV",
        "colab": {
          "base_uri": "https://localhost:8080/"
        },
        "outputId": "e6d65929-4d32-4c16-f5c9-42b939697b13"
      },
      "source": [
        "suma_2_num = lambda x,y : x + y\n",
        "suma_2_num(3, 4)"
      ],
      "execution_count": 110,
      "outputs": [
        {
          "output_type": "execute_result",
          "data": {
            "text/plain": [
              "7"
            ]
          },
          "metadata": {},
          "execution_count": 110
        }
      ]
    },
    {
      "cell_type": "markdown",
      "metadata": {
        "id": "q9Q8iWbNVQbV"
      },
      "source": [
        "### Expresión `lambda` para sumar muchos números"
      ]
    },
    {
      "cell_type": "code",
      "metadata": {
        "id": "8yJ1LIUVVQbV",
        "colab": {
          "base_uri": "https://localhost:8080/"
        },
        "outputId": "fd2c5946-0e10-488a-a445-0bff4d3c95fa"
      },
      "source": [
        "suma_n_num = lambda *args: sum(args)\n",
        "suma_n_num(1, 2, 3, 4, 5, 6, 7, 8, 9)"
      ],
      "execution_count": 111,
      "outputs": [
        {
          "output_type": "execute_result",
          "data": {
            "text/plain": [
              "45"
            ]
          },
          "metadata": {},
          "execution_count": 111
        }
      ]
    },
    {
      "cell_type": "markdown",
      "metadata": {
        "id": "pWCQevdZVQbV"
      },
      "source": [
        "Más adelante verás que ciertas librerías de Python (e.g. Pandas) utilizan mucho las expresiones `lambda`."
      ]
    },
    {
      "cell_type": "markdown",
      "source": [
        "<img src=\"data:image/png;base64,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\" width=\"100\" align=\"left\" title=\"Runa-perth\">\n",
        "<br clear=\"left\">\n",
        "Contenido opcional\n",
        "\n",
        "##<font color='blue'>__Ejercicios avanzados__</font>\n",
        "\n",
        "Desarrolla los siguientes ejercicios si quieres profundizar tus conocimientos en expresiones `lambda`."
      ],
      "metadata": {
        "id": "jG41TV9pJleJ"
      }
    },
    {
      "cell_type": "markdown",
      "source": [
        "### <font color='green'>Actividad 3</font>\n",
        "Dada una lista de tuplas que representan productos en un inventario, donde cada tupla contiene el nombre del producto como una cadena y su cantidad en el inventario como un número entero, escribe una expresión lambda que tome dicha lista y devuelva la misma lista ordenada por la cantidad de producto en orden descendente."
      ],
      "metadata": {
        "id": "JC3fG6bIJv0G"
      }
    },
    {
      "cell_type": "code",
      "source": [
        "productos = [(\"manzanas\", 10), (\"plátanos\", 40), (\"bananas\", 20), (\"naranjas\", 30)]\n",
        "\n",
        "# Tu código aquí ...\n",
        "# -> [('plátanos', 40), ('naranjas', 30), ('bananas', 20), ('manzanas', 10)]\n",
        "\n",
        "# Usamos sorted con una lambda para ordenar por la cantidad en orden descendente\n",
        "productos_ordenados = sorted(productos, key=lambda x: x[1], reverse=True)\n",
        "\n",
        "print(productos_ordenados)\n"
      ],
      "metadata": {
        "id": "Jcr5TaGiERQ6",
        "colab": {
          "base_uri": "https://localhost:8080/"
        },
        "outputId": "cd0a9cfc-076b-4949-e5cc-e139b23aada9"
      },
      "execution_count": 112,
      "outputs": [
        {
          "output_type": "stream",
          "name": "stdout",
          "text": [
            "[('plátanos', 40), ('naranjas', 30), ('bananas', 20), ('manzanas', 10)]\n"
          ]
        }
      ]
    },
    {
      "cell_type": "markdown",
      "source": [
        "### <font color='green'>Actividad 4</font>\n",
        "Escribe una expresión lambda que tome una lista de cadenas y devuelva una nueva lista que contenga solo las cadenas que tienen una longitud de exactamente tres caracteres."
      ],
      "metadata": {
        "id": "7UUrAZQiKYex"
      }
    },
    {
      "cell_type": "code",
      "source": [
        "# Probemos tu expresión con el siguiente texto\n",
        "noticia = \"\"\"El Planeta. Los astrónomos han descubierto un fenómeno sorprendente en nuestro sistema solar. Un planeta, previamente no identificado, parece haber entrado en nuestro sistema solar desde el espacio interestelar.\n",
        "Este planeta, provisionalmente denominado \"Eris II!\", ha causado un gran revuelo en la comunidad astronómica. Según los primeros informes, el planeta es aproximadamente del tamaño de Marte y parece tener una composición similar a la de los planetas gigantes gaseosos como Júpiter y Saturno.\n",
        "El planeta fue descubierto por un equipo de astrónomos de la Universidad de California, que estaban utilizando el telescopio espacial Kepler para estudiar las estrellas en la constelación de Cygnus. El equipo se dio cuenta de que una estrella parecía oscurecerse periódicamente, un signo clásico de un planeta en tránsito.\n",
        "\"Estábamos buscando planetas alrededor de otras estrellas, así que fue una gran sorpresa cuando nos dimos cuenta de que este planeta estaba mucho más cerca de casa\", dijo la Dra. Jane Foster, líder del equipo de investigación.\n",
        "El descubrimiento de este nuevo planeta plantea muchas preguntas. ¿Cómo logró este planeta entrar en nuestro sistema solar sin ser detectado antes? ¿Podría haber otros planetas desconocidos en nuestro sistema solar? ¿Y qué efectos podría tener este planeta en los otros planetas de nuestro sistema solar?\n",
        "\"Este es un momento emocionante para la ciencia planetaria\", dijo el Dr. Foster. \"Cada nuevo planeta que descubrimos nos enseña algo nuevo sobre nuestro sistema solar y sobre cómo se forman y evolucionan los planetas\".\n",
        "La búsqueda de respuestas a estas preguntas está en marcha. Los astrónomos de todo el mundo están apuntando sus telescopios hacia este nuevo planeta, y las misiones espaciales futuras podrían ser redirigidas para estudiar este intrigante nuevo miembro de nuestro sistema solar.\n",
        "Mientras tanto, el planeta Eris II sigue su camino a través de nuestro sistema solar, un recordatorio de cuánto queda por descubrir en nuestra propia esquina del universo.\n",
        "\"\"\""
      ],
      "metadata": {
        "id": "wPeaacSzLLVw"
      },
      "execution_count": 113,
      "outputs": []
    },
    {
      "cell_type": "code",
      "source": [
        "# Tu código aquí ...\n",
        "\n",
        "# Convertimos el texto en una lista de palabras\n",
        "palabras = noticia.split()\n",
        "\n",
        "# Usamos una expresión lambda para filtrar las palabras con exactamente 3 caracteres\n",
        "tres_letras = list(filter(lambda x: len(x) == 3, palabras))\n",
        "\n",
        "print(tres_letras)"
      ],
      "metadata": {
        "id": "XhC2RcCtKhdu",
        "colab": {
          "base_uri": "https://localhost:8080/"
        },
        "outputId": "9ec084f9-ea61-4403-bff0-7d5623a63f45"
      },
      "execution_count": 114,
      "outputs": [
        {
          "output_type": "stream",
          "name": "stdout",
          "text": [
            "['Los', 'han', 'los', 'del', 'una', 'los', 'fue', 'por', 'que', 'las', 'dio', 'que', 'una', 'así', 'que', 'fue', 'una', 'nos', 'que', 'más', 'del', 'sin', 'ser', 'qué', 'los', 'Dr.', 'que', 'nos', 'los', 'Los', 'sus', 'las', 'ser', 'por', 'del']\n"
          ]
        }
      ]
    },
    {
      "cell_type": "markdown",
      "source": [
        "### <font color='green'>Actividad 5</font>\n",
        "Dada una lista de números, escribe una expresión lambda que tome dicha lista y devuelva la suma de todos los números en la lista que sean múltiplos de tres o cinco."
      ],
      "metadata": {
        "id": "oCy7AJfqKZPS"
      }
    },
    {
      "cell_type": "code",
      "source": [
        "numeros = [1, 2, 3, 4, 5, 6, 7, 8, 9, 10]\n",
        "\n",
        "# Tu código aquí ...\n",
        "# -> 33\n",
        "\n",
        "# Usamos filter para seleccionar los múltiplos de 3 o 5, y luego sumamos los resultados\n",
        "suma_multiplos = sum(filter(lambda x: x % 3 == 0 or x % 5 == 0, numeros))\n",
        "\n",
        "print(suma_multiplos)"
      ],
      "metadata": {
        "id": "QOnikNvLNRef",
        "colab": {
          "base_uri": "https://localhost:8080/"
        },
        "outputId": "2953761b-68ee-4bd5-d8d6-f1a32a095c25"
      },
      "execution_count": 115,
      "outputs": [
        {
          "output_type": "stream",
          "name": "stdout",
          "text": [
            "33\n"
          ]
        }
      ]
    },
    {
      "cell_type": "markdown",
      "source": [
        "### <font color='green'>Actividad 6: Challenging</font>\n",
        "Escribe una expresión lambda que tome una lista de cadenas y devuelva una nueva lista que contenga las mismas cadenas pero con todas las vocales eliminadas."
      ],
      "metadata": {
        "id": "DAEyfWt6KZWV"
      }
    },
    {
      "cell_type": "code",
      "source": [
        "palabras = [\"hola\", \"mundo\", \"soy\", \"un\", \"programador\", \"atómico\"]\n",
        "\n",
        "# Tu código aquí ...\n",
        "# -> ['hl', 'mnd', 'sy', 'n', 'prgrmdr', 'tmc']\n",
        "\n",
        "# Usamos map con una expresión lambda que elimina las vocales de cada palabra\n",
        "sin_vocales = list(map(lambda x: ''.join([letra for letra in x if letra.lower() not in 'aeiou']), palabras))\n",
        "\n",
        "print(sin_vocales)"
      ],
      "metadata": {
        "id": "za5u8o1yNkM3",
        "colab": {
          "base_uri": "https://localhost:8080/"
        },
        "outputId": "cb71fff1-730f-402f-94cd-c7dc082e0d4a"
      },
      "execution_count": 116,
      "outputs": [
        {
          "output_type": "stream",
          "name": "stdout",
          "text": [
            "['hl', 'mnd', 'sy', 'n', 'prgrmdr', 'tómc']\n"
          ]
        }
      ]
    },
    {
      "cell_type": "markdown",
      "source": [
        "<img src=\"data:image/png;base64,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\" width=\"50\" align=\"left\" title=\"Runa-perth\">"
      ],
      "metadata": {
        "id": "fIo0IRRCOkKj"
      }
    },
    {
      "cell_type": "markdown",
      "source": [
        "<img src=\"data:image/png;base64,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\" width=\"100\" align=\"left\" title=\"Runa-perth\">\n",
        "<br clear=\"left\">\n",
        "Contenido opcional\n",
        "\n",
        "##<font color='blue'>__Función `reduce()`__</font>\n",
        "\n",
        "La función `reduce()` es una función incorporada en Python (disponible en el módulo functools) que aplica una función de dos argumentos de manera acumulativa a los elementos de un iterable (como una lista), de manera que reduce el iterable a un único valor de salida.\n",
        "\n",
        "Por ejemplo, si tienes una lista de números y quieres encontrar el producto de todos los números en la lista, puedes usar `reduce()` con una función que multiplica dos números.\n",
        "\n",
        "Aquí está el código que demuestra esto:"
      ],
      "metadata": {
        "id": "r60z14QLOlY7"
      }
    },
    {
      "cell_type": "code",
      "source": [
        "from functools import reduce\n",
        "\n",
        "# Definimos una función que multiplica dos números\n",
        "def multiplica(x, y):\n",
        "    return x * y\n",
        "\n",
        "# Tenemos una lista de números\n",
        "numeros = [1, 2, 3, 4, 5]\n",
        "\n",
        "# Usamos reduce para multiplicar todos los números en la lista\n",
        "producto = reduce(multiplica, numeros)\n",
        "\n",
        "print(producto)  # Debería imprimir: 120"
      ],
      "metadata": {
        "id": "5ykZNlUwPQlr",
        "colab": {
          "base_uri": "https://localhost:8080/"
        },
        "outputId": "789b90b5-f753-462f-e5bb-ce21082df066"
      },
      "execution_count": 117,
      "outputs": [
        {
          "output_type": "stream",
          "name": "stdout",
          "text": [
            "120\n"
          ]
        }
      ]
    },
    {
      "cell_type": "markdown",
      "source": [
        "La función `reduce()` es especialmente útil cuando necesitas aplicar una función específica a todos los elementos de un iterable y acumular un resultado. Esto puede ser muy útil en varias situaciones, a continuación\n",
        " algunos ejemplos:\n",
        "\n",
        "* __Cálculos acumulativos__: `reduce()` se puede usar para calcular la suma, el producto, el mínimo, el máximo, etc., de todos los elementos en un iterable. Por ejemplo, podrías usar `reduce()` para calcular el producto de todos los elementos en una lista de números, o para encontrar el número más grande en una lista.\n",
        "* __Transformación de datos__: `reduce()` también se puede usar para transformar un iterable en una forma acumulativa. Por ejemplo, podrías usar `reduce(`) para convertir una lista de cadenas en una sola cadena que contenga todas las cadenas concatenadas, o para convertir una lista de diccionarios en un solo diccionario que contenga todas las claves y valores de los diccionarios.\n",
        "* __Procesamiento de secuencias__: `reduce()` puede ser útil para procesar secuencias de datos en un solo paso. Por ejemplo, podrías usar `reduce()` para procesar una lista de transacciones y calcular el saldo de una cuenta bancaria.\n",
        "* __Programación funcional__: `reduce()` es una herramienta clave en la programación funcional, un paradigma de programación en el que las funciones son ciudadanos de primera clase y el estado y los datos mutables son evitados. En la programación funcional, las funciones como `reduce()` se utilizan para evitar los bucles y las variables de estado."
      ],
      "metadata": {
        "id": "CdkXL54UPs9i"
      }
    },
    {
      "cell_type": "markdown",
      "source": [
        "### <font color='green'>Actividad 3</font>\n",
        "Dada una lista de números, escribe una expresión lambda que tome dicha lista y devuelva el producto de todos los números en la lista."
      ],
      "metadata": {
        "id": "7YdccbRjKZab"
      }
    },
    {
      "cell_type": "code",
      "source": [
        "from functools import reduce\n",
        "\n",
        "numeros = [1, 2, 3, 4, 5]\n",
        "\n",
        "# Tu código aquí ...\n",
        "# -> 120\n",
        "\n",
        "producto = reduce(lambda x, y: x * y, numeros)\n",
        "print(producto)"
      ],
      "metadata": {
        "id": "h0UGOka6O1Cq",
        "colab": {
          "base_uri": "https://localhost:8080/"
        },
        "outputId": "4758e88b-7ed8-43b6-bdd6-88d7fe71b9fa"
      },
      "execution_count": 118,
      "outputs": [
        {
          "output_type": "stream",
          "name": "stdout",
          "text": [
            "120\n"
          ]
        }
      ]
    },
    {
      "cell_type": "markdown",
      "source": [
        "<img src=\"data:image/png;base64,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\" width=\"50\" align=\"left\" title=\"Runa-perth\">"
      ],
      "metadata": {
        "id": "leGE6Az2RA1Q"
      }
    }
  ]
}