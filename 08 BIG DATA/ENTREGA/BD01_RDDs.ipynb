{
  "nbformat": 4,
  "nbformat_minor": 0,
  "metadata": {
    "name": "RDDs",
    "notebookId": 1046754112728474,
    "colab": {
      "provenance": []
    },
    "kernelspec": {
      "name": "python3",
      "display_name": "Python 3"
    }
  },
  "cells": [
    {
      "cell_type": "markdown",
      "metadata": {
        "id": "PUQeY-VGH8NW"
      },
      "source": [
        "# **Big Data**\n",
        "#BD01 Spark Resilient Distributed Datasets (RDD)"
      ]
    },
    {
      "cell_type": "code",
      "metadata": {
        "id": "M4Wo7L-PKlhv"
      },
      "source": [
        "# Esto solo lo utilizamos para instalar las librerias\n",
        "!apt-get install openjdk-8-jdk-headless -qq > /dev/null\n",
        "!wget -q https://downloads.apache.org/spark/spark-3.5.5/spark-3.5.5-bin-hadoop3.tgz\n",
        "!tar xf spark-3.5.5-bin-hadoop3.tgz\n",
        "!pip install -q findspark"
      ],
      "execution_count": 1,
      "outputs": []
    },
    {
      "cell_type": "code",
      "metadata": {
        "id": "1QTt4RGeK4Op"
      },
      "source": [
        "import os\n",
        "os.environ[\"JAVA_HOME\"] = \"/usr/lib/jvm/java-8-openjdk-amd64\"\n",
        "os.environ[\"SPARK_HOME\"] = \"/content/spark-3.5.5-bin-hadoop3\""
      ],
      "execution_count": 2,
      "outputs": []
    },
    {
      "cell_type": "code",
      "metadata": {
        "id": "drpbNM0lK-X7"
      },
      "source": [
        "import findspark\n",
        "findspark.init()\n",
        "from pyspark.sql import SparkSession\n",
        "sc = SparkSession.builder.master(\"local[*]\").getOrCreate()"
      ],
      "execution_count": 3,
      "outputs": []
    },
    {
      "cell_type": "markdown",
      "metadata": {
        "id": "zLyHJW91RmMT"
      },
      "source": [
        "## RDDs\n",
        "\n",
        "Los Resilient Distributed Datasets (RDD) son colecciones de objetos JVM inmutables que se distribuyen en un clúster de Apache Spark.\n",
        "\n",
        "Un RDD es el tipo de conjunto de datos más fundamental de Apache Spark; cualquier acción en un Spark DataFrame finalmente se traduce en una ejecución altamente optimizada de transformaciones y acciones en RDD.\n",
        "\n",
        "Los datos en un RDD se dividen en trozos basados en una clave y luego se dispersan en todos los nodos ejecutores. Los RDD pueden recuperarse rápidamente de cualquier problema, ya que los mismos fragmentos de datos se replican en varios nodos ejecutores. Por lo tanto, incluso si un ejecutor falla, otro seguirá procesando los datos. Esto le permite realizar sus cálculos funcionales contra su conjunto de datos muy rápidamente al aprovechar el poder de múltiples nodos. Los RDD mantienen un registro de todos los pasos de ejecución aplicados a cada fragmento. Esto, además de la replicación de datos, acelera los cálculos y, si algo sale mal, los RDD aún pueden recuperar la parte de los datos perdidos debido a un error del ejecutor.\n",
        "\n",
        "Si bien es común perder un nodo en entornos distribuidos (por ejemplo, debido a problemas de conectividad, problemas de hardware), la distribución y replicación de los datos protege contra la pérdida de datos, mientras que el linaje de datos permite que el sistema se recupere rápidamente.\n"
      ]
    },
    {
      "cell_type": "markdown",
      "metadata": {
        "id": "eVnljGcHToIn"
      },
      "source": [
        "**Particions**: Los RDD son una colección de varios datos si no pueden caber en un solo nodo, deben dividirse en varios nodos. Entonces significa que cuanto mayor sea el número de particiones, mayor será el paralelismo. Estas particiones de un RDD se distribuyen por todos los nodos de la red.\n",
        "\n",
        "**Operaciones con RDD**: Hay dos tipos de operaciones que puede realizar en un RDD: **Transformaciones** y **Acciones**. La transformación aplica alguna función en un RDD y crea un nuevo RDD, no modifica el RDD en el que aplica la función (recuerde que los RDD son inmutables). Además, el nuevo RDD mantiene un puntero a su RDD principal.\n",
        "\n",
        "Una **acción** se utiliza para guardar el resultado en alguna ubicación o para mostrarlo. También puede imprimir la información del linaje RDD usando el comando"
      ]
    },
    {
      "cell_type": "markdown",
      "metadata": {
        "id": "uvRMyW-1VQ_H"
      },
      "source": [
        "Un RDD puede ser pensado como un conjunto de transformaciones y una acción que collecta el resultado.\n",
        "\n",
        "A continuacion mostramos el grafo aciclico dirigido del ciclo de vida de un RDD.\n",
        "<img src=\"https://drive.google.com/uc?export=view&id=1nlwjvcpNhFZ0YCJ4aBgl8ioAvBeOdZoi\" width=600 height=400/>\n",
        "\n",
        "**DAGScheduler** es la capa de programación de Apache Spark que implementa la programación orientada por etapas. Transforma un plan de ejecución lógico (es decir, el linaje RDD de dependencias construidas usando transformaciones RDD) en un plan de ejecución físico (usando etapas).\n",
        "\n",
        "<img src=\"https://drive.google.com/uc?export=view&id=1WZRvLgBh4IZF0_15St3yT2pfVrDVOWo_\" width=600 height=400/>\n",
        "\n",
        "el  **DAGScheduler** divide el gráfico en varias etapas, las etapas se crean en función de las transformaciones. Las transformaciones estrechas se agruparán (en tuberías) juntas en una sola etapa.\n",
        "\n",
        "\n",
        "\n"
      ]
    },
    {
      "cell_type": "markdown",
      "metadata": {
        "id": "4UiZFi5eH8Nb"
      },
      "source": [
        "## Creemos RDDs"
      ]
    },
    {
      "cell_type": "code",
      "metadata": {
        "id": "zkruqBs_LYBt",
        "colab": {
          "base_uri": "https://localhost:8080/"
        },
        "outputId": "8470541c-ae4a-443a-d33f-15cb92d5679d"
      },
      "source": [
        "from google.colab import drive\n",
        "drive.mount('/content/drive')"
      ],
      "execution_count": 4,
      "outputs": [
        {
          "output_type": "stream",
          "name": "stdout",
          "text": [
            "Mounted at /content/drive\n"
          ]
        }
      ]
    },
    {
      "cell_type": "code",
      "metadata": {
        "id": "jhhUYtFCH8Nc"
      },
      "source": [
        "myRDD = sc.sparkContext.parallelize(\n",
        " [('Amber', 22), ('Alfred', 23), ('Skye',4), ('Albert', 12), ('Amber', 9)]\n",
        ")"
      ],
      "execution_count": 5,
      "outputs": []
    },
    {
      "cell_type": "code",
      "metadata": {
        "id": "GVTAzwXYH8Nc",
        "colab": {
          "base_uri": "https://localhost:8080/"
        },
        "outputId": "1c849f53-908d-4c01-85c5-83974b520753"
      },
      "source": [
        "myRDD.take(2)"
      ],
      "execution_count": 6,
      "outputs": [
        {
          "output_type": "execute_result",
          "data": {
            "text/plain": [
              "[('Amber', 22), ('Alfred', 23)]"
            ]
          },
          "metadata": {},
          "execution_count": 6
        }
      ]
    },
    {
      "cell_type": "markdown",
      "metadata": {
        "id": "rj27uTveyu8Q"
      },
      "source": [
        "El metodo parallelize() crea una collección paralelizada. Esto permite que Spark distribuya los datos en varios nodos, en lugar de depender de un solo nodo para procesar los datos:\n",
        "\n",
        "<img src=\"https://drive.google.com/uc?export=view&id=1lcecAAov0cIpEcVcJ9WCbKyANgJqXva-\" width=600 height=400/>\n",
        "\n"
      ]
    },
    {
      "cell_type": "markdown",
      "metadata": {
        "id": "kjBVLLNyH8Nc"
      },
      "source": [
        "## Reading data from files"
      ]
    },
    {
      "cell_type": "code",
      "metadata": {
        "id": "9hnRktuQH8Nd"
      },
      "source": [
        "path ='/content/drive/MyDrive/Gonzalo/CD - P2 BIG DATA/CLASE 1/'\n",
        "myRDD = sc.sparkContext.textFile(path + 'airport-codes-na.txt')"
      ],
      "execution_count": 7,
      "outputs": []
    },
    {
      "cell_type": "code",
      "metadata": {
        "id": "FmWHJzE1H8Nd",
        "colab": {
          "base_uri": "https://localhost:8080/"
        },
        "outputId": "0e4786e1-53bb-4d92-f570-9419b7f0f78a"
      },
      "source": [
        "myRDD.take(5)"
      ],
      "execution_count": 8,
      "outputs": [
        {
          "output_type": "execute_result",
          "data": {
            "text/plain": [
              "['City\\tState\\tCountry\\tIATA',\n",
              " 'Abbotsford\\tBC\\tCanada\\tYXX',\n",
              " 'Aberdeen\\tSD\\tUSA\\tABR',\n",
              " 'Abilene\\tTX\\tUSA\\tABI',\n",
              " 'Akron\\tOH\\tUSA\\tCAK']"
            ]
          },
          "metadata": {},
          "execution_count": 8
        }
      ]
    },
    {
      "cell_type": "code",
      "metadata": {
        "id": "HxZZjCojH8Nd",
        "colab": {
          "base_uri": "https://localhost:8080/"
        },
        "outputId": "004d2528-a57d-47f3-d7f8-78e2bdbf9d62"
      },
      "source": [
        "myRDD.count()"
      ],
      "execution_count": 9,
      "outputs": [
        {
          "output_type": "execute_result",
          "data": {
            "text/plain": [
              "527"
            ]
          },
          "metadata": {},
          "execution_count": 9
        }
      ]
    },
    {
      "cell_type": "code",
      "metadata": {
        "id": "zWM0LS_6H8Ne"
      },
      "source": [
        "myRDD = sc.sparkContext.textFile(path + 'airport-codes-na.txt').map(lambda line: line.split(\"\\t\"))"
      ],
      "execution_count": 10,
      "outputs": []
    },
    {
      "cell_type": "code",
      "metadata": {
        "id": "TZPatC5NH8Ne",
        "colab": {
          "base_uri": "https://localhost:8080/"
        },
        "outputId": "bed97332-ecf1-446e-d56b-3b943b356337"
      },
      "source": [
        "myRDD.getNumPartitions()"
      ],
      "execution_count": 11,
      "outputs": [
        {
          "output_type": "execute_result",
          "data": {
            "text/plain": [
              "2"
            ]
          },
          "metadata": {},
          "execution_count": 11
        }
      ]
    },
    {
      "cell_type": "code",
      "metadata": {
        "id": "46MgUExcH8Ne"
      },
      "source": [
        "myRDD = sc.sparkContext.textFile(path + 'airport-codes-na.txt', minPartitions=4, use_unicode=True).map(lambda line: line.split(\"\\t\"))"
      ],
      "execution_count": 12,
      "outputs": []
    },
    {
      "cell_type": "code",
      "metadata": {
        "id": "J4aYUEV2H8Ne",
        "colab": {
          "base_uri": "https://localhost:8080/"
        },
        "outputId": "879ea78c-7a70-42ca-b231-c7743638b6a3"
      },
      "source": [
        "myRDD.take(5)"
      ],
      "execution_count": 13,
      "outputs": [
        {
          "output_type": "execute_result",
          "data": {
            "text/plain": [
              "[['City', 'State', 'Country', 'IATA'],\n",
              " ['Abbotsford', 'BC', 'Canada', 'YXX'],\n",
              " ['Aberdeen', 'SD', 'USA', 'ABR'],\n",
              " ['Abilene', 'TX', 'USA', 'ABI'],\n",
              " ['Akron', 'OH', 'USA', 'CAK']]"
            ]
          },
          "metadata": {},
          "execution_count": 13
        }
      ]
    },
    {
      "cell_type": "code",
      "metadata": {
        "id": "haTmVDEMH8Nf",
        "colab": {
          "base_uri": "https://localhost:8080/"
        },
        "outputId": "aef3179a-0b25-4263-85a9-bb6fabe52a5f"
      },
      "source": [
        "myRDD.getNumPartitions()"
      ],
      "execution_count": 14,
      "outputs": [
        {
          "output_type": "execute_result",
          "data": {
            "text/plain": [
              "4"
            ]
          },
          "metadata": {},
          "execution_count": 14
        }
      ]
    },
    {
      "cell_type": "markdown",
      "metadata": {
        "id": "YUSbqcEAMjka"
      },
      "source": [
        "## <font color='green'>**Ejercicio 1**</font>\n",
        "\n",
        "Lea el data set departuredelays.csv. Con un numero minimo e 8 particiones y realice una transformacion map la cual realice un split de cada  fila.\n",
        "\n",
        "Posteriormente imprima 5 elementos y el numero de particiones."
      ]
    },
    {
      "cell_type": "code",
      "source": [
        "type(myRDD)"
      ],
      "metadata": {
        "id": "r6W7U_th-4UP",
        "colab": {
          "base_uri": "https://localhost:8080/",
          "height": 203
        },
        "outputId": "9a7cf4ba-94af-46f5-cfa8-f43452e4e2d9"
      },
      "execution_count": 15,
      "outputs": [
        {
          "output_type": "execute_result",
          "data": {
            "text/plain": [
              "pyspark.rdd.PipelinedRDD"
            ],
            "text/html": [
              "<div style=\"max-width:800px; border: 1px solid var(--colab-border-color);\"><style>\n",
              "      pre.function-repr-contents {\n",
              "        overflow-x: auto;\n",
              "        padding: 8px 12px;\n",
              "        max-height: 500px;\n",
              "      }\n",
              "\n",
              "      pre.function-repr-contents.function-repr-contents-collapsed {\n",
              "        cursor: pointer;\n",
              "        max-height: 100px;\n",
              "      }\n",
              "    </style>\n",
              "    <pre style=\"white-space: initial; background:\n",
              "         var(--colab-secondary-surface-color); padding: 8px 12px;\n",
              "         border-bottom: 1px solid var(--colab-border-color);\"><b>pyspark.rdd.PipelinedRDD</b><br/>def __init__(prev: RDD[T], func: Callable[[int, Iterable[T]], Iterable[U]], preservesPartitioning: bool=False, isFromBarrier: bool=False)</pre><pre class=\"function-repr-contents function-repr-contents-collapsed\" style=\"\"><a class=\"filepath\" style=\"display:none\" href=\"#\">/content/spark-3.5.5-bin-hadoop3/python/pyspark/rdd.py</a>Examples\n",
              "--------\n",
              "Pipelined maps:\n",
              "\n",
              "&gt;&gt;&gt; rdd = sc.parallelize([1, 2, 3, 4])\n",
              "&gt;&gt;&gt; rdd.map(lambda x: 2 * x).cache().map(lambda x: 2 * x).collect()\n",
              "[4, 8, 12, 16]\n",
              "&gt;&gt;&gt; rdd.map(lambda x: 2 * x).map(lambda x: 2 * x).collect()\n",
              "[4, 8, 12, 16]\n",
              "\n",
              "Pipelined reduces:\n",
              "\n",
              "&gt;&gt;&gt; from operator import add\n",
              "&gt;&gt;&gt; rdd.map(lambda x: 2 * x).reduce(add)\n",
              "20\n",
              "&gt;&gt;&gt; rdd.flatMap(lambda x: [x, x]).reduce(add)\n",
              "20</pre>\n",
              "      <script>\n",
              "      if (google.colab.kernel.accessAllowed && google.colab.files && google.colab.files.view) {\n",
              "        for (const element of document.querySelectorAll('.filepath')) {\n",
              "          element.style.display = 'block'\n",
              "          element.onclick = (event) => {\n",
              "            event.preventDefault();\n",
              "            event.stopPropagation();\n",
              "            google.colab.files.view(element.textContent, 5395);\n",
              "          };\n",
              "        }\n",
              "      }\n",
              "      for (const element of document.querySelectorAll('.function-repr-contents')) {\n",
              "        element.onclick = (event) => {\n",
              "          event.preventDefault();\n",
              "          event.stopPropagation();\n",
              "          element.classList.toggle('function-repr-contents-collapsed');\n",
              "        };\n",
              "      }\n",
              "      </script>\n",
              "      </div>"
            ]
          },
          "metadata": {},
          "execution_count": 15
        }
      ]
    },
    {
      "cell_type": "code",
      "metadata": {
        "id": "YqxJTAv0H8Nf",
        "colab": {
          "base_uri": "https://localhost:8080/"
        },
        "outputId": "5b62dda5-ae72-4140-9ec7-5fd3c12d7be8"
      },
      "source": [
        "myRDD = sc.sparkContext.textFile(path + 'departuredelays.csv').map(lambda line: line.split(\",\"))\n",
        "myRDD.count()"
      ],
      "execution_count": 16,
      "outputs": [
        {
          "output_type": "execute_result",
          "data": {
            "text/plain": [
              "1391579"
            ]
          },
          "metadata": {},
          "execution_count": 16
        }
      ]
    },
    {
      "cell_type": "code",
      "metadata": {
        "id": "nvJtjrA2H8Nf",
        "colab": {
          "base_uri": "https://localhost:8080/"
        },
        "outputId": "e479f246-33d6-4bc6-af81-8d549ab8fc67"
      },
      "source": [
        "myRDD = sc.sparkContext.textFile(path + 'departuredelays.csv', minPartitions=8).map(lambda line: line.split(\",\"))\n",
        "myRDD.count()"
      ],
      "execution_count": 17,
      "outputs": [
        {
          "output_type": "execute_result",
          "data": {
            "text/plain": [
              "1391579"
            ]
          },
          "metadata": {},
          "execution_count": 17
        }
      ]
    },
    {
      "cell_type": "code",
      "metadata": {
        "id": "0pLjrH-5H8Nf",
        "colab": {
          "base_uri": "https://localhost:8080/"
        },
        "outputId": "b1425dc3-d86a-49a3-822b-16bdf672c97d"
      },
      "source": [
        "myRDD.take(5)"
      ],
      "execution_count": 18,
      "outputs": [
        {
          "output_type": "execute_result",
          "data": {
            "text/plain": [
              "[['date', 'delay', 'distance', 'origin', 'destination'],\n",
              " ['01011245', '6', '602', 'ABE', 'ATL'],\n",
              " ['01020600', '-8', '369', 'ABE', 'DTW'],\n",
              " ['01021245', '-2', '602', 'ABE', 'ATL'],\n",
              " ['01020605', '-4', '602', 'ABE', 'ATL']]"
            ]
          },
          "metadata": {},
          "execution_count": 18
        }
      ]
    },
    {
      "cell_type": "code",
      "metadata": {
        "id": "PbdrnkrhH8Nf",
        "colab": {
          "base_uri": "https://localhost:8080/"
        },
        "outputId": "c6317344-e2fd-4c47-83f6-034743863872"
      },
      "source": [
        "myRDD.getNumPartitions()"
      ],
      "execution_count": 19,
      "outputs": [
        {
          "output_type": "execute_result",
          "data": {
            "text/plain": [
              "8"
            ]
          },
          "metadata": {},
          "execution_count": 19
        }
      ]
    },
    {
      "cell_type": "markdown",
      "metadata": {
        "id": "hkYk1ZkPNYo3"
      },
      "source": [
        "## <font color='green'>**Fin Ejercicio 1**</font>"
      ]
    },
    {
      "cell_type": "markdown",
      "metadata": {
        "id": "3XzbZTBuH8Nf"
      },
      "source": [
        "#### *Using DataFrame*\n",
        "Note, that its faster (2.44s for DF, 2.96s for RDD w/ 8 partitions) while DF also takes into account of the header and can infer the schema"
      ]
    },
    {
      "cell_type": "code",
      "metadata": {
        "id": "3IEs5JWiH8Ng",
        "colab": {
          "base_uri": "https://localhost:8080/"
        },
        "outputId": "b66fbcbc-9cdd-43cb-9be4-bfd642f49538"
      },
      "source": [
        "myDF = sc.read.csv(path + 'departuredelays.csv', header=True, inferSchema=True)\n",
        "myDF.count()"
      ],
      "execution_count": 20,
      "outputs": [
        {
          "output_type": "execute_result",
          "data": {
            "text/plain": [
              "1391578"
            ]
          },
          "metadata": {},
          "execution_count": 20
        }
      ]
    },
    {
      "cell_type": "code",
      "metadata": {
        "id": "elX5Z37FH8Ng",
        "colab": {
          "base_uri": "https://localhost:8080/"
        },
        "outputId": "239f773b-b3f1-4214-fc94-ede129497b66"
      },
      "source": [
        "myDF.show()"
      ],
      "execution_count": 21,
      "outputs": [
        {
          "output_type": "stream",
          "name": "stdout",
          "text": [
            "+-------+-----+--------+------+-----------+\n",
            "|   date|delay|distance|origin|destination|\n",
            "+-------+-----+--------+------+-----------+\n",
            "|1011245|    6|     602|   ABE|        ATL|\n",
            "|1020600|   -8|     369|   ABE|        DTW|\n",
            "|1021245|   -2|     602|   ABE|        ATL|\n",
            "|1020605|   -4|     602|   ABE|        ATL|\n",
            "|1031245|   -4|     602|   ABE|        ATL|\n",
            "|1030605|    0|     602|   ABE|        ATL|\n",
            "|1041243|   10|     602|   ABE|        ATL|\n",
            "|1040605|   28|     602|   ABE|        ATL|\n",
            "|1051245|   88|     602|   ABE|        ATL|\n",
            "|1050605|    9|     602|   ABE|        ATL|\n",
            "|1061215|   -6|     602|   ABE|        ATL|\n",
            "|1061725|   69|     602|   ABE|        ATL|\n",
            "|1061230|    0|     369|   ABE|        DTW|\n",
            "|1060625|   -3|     602|   ABE|        ATL|\n",
            "|1070600|    0|     369|   ABE|        DTW|\n",
            "|1071725|    0|     602|   ABE|        ATL|\n",
            "|1071230|    0|     369|   ABE|        DTW|\n",
            "|1070625|    0|     602|   ABE|        ATL|\n",
            "|1071219|    0|     569|   ABE|        ORD|\n",
            "|1080600|    0|     369|   ABE|        DTW|\n",
            "+-------+-----+--------+------+-----------+\n",
            "only showing top 20 rows\n",
            "\n"
          ]
        }
      ]
    },
    {
      "cell_type": "code",
      "metadata": {
        "id": "PZd_NYDPH8Ng",
        "colab": {
          "base_uri": "https://localhost:8080/"
        },
        "outputId": "d5e7b655-812b-4a49-f6ae-8b7d93ff2114"
      },
      "source": [
        "myDF.rdd.getNumPartitions()"
      ],
      "execution_count": 22,
      "outputs": [
        {
          "output_type": "execute_result",
          "data": {
            "text/plain": [
              "2"
            ]
          },
          "metadata": {},
          "execution_count": 22
        }
      ]
    },
    {
      "cell_type": "code",
      "metadata": {
        "id": "pHQBQzgEH8Ng",
        "colab": {
          "base_uri": "https://localhost:8080/"
        },
        "outputId": "928e3b93-d45c-4eda-e557-9cd1401493de"
      },
      "source": [
        "myDF.printSchema()"
      ],
      "execution_count": 23,
      "outputs": [
        {
          "output_type": "stream",
          "name": "stdout",
          "text": [
            "root\n",
            " |-- date: integer (nullable = true)\n",
            " |-- delay: integer (nullable = true)\n",
            " |-- distance: integer (nullable = true)\n",
            " |-- origin: string (nullable = true)\n",
            " |-- destination: string (nullable = true)\n",
            "\n"
          ]
        }
      ]
    },
    {
      "cell_type": "markdown",
      "metadata": {
        "id": "-80Qnpj6H8Ng"
      },
      "source": [
        "## RDD Transformations\n",
        "\n",
        "Una vez creado un RDD, es frecuente usar el método take() para devolver los valores a la consola o notebook. take() es una **acción* RDD. Tenga en cuenta que un enfoque común en PySpark es usar collect(), que devuelve todos los valores en su RDD desde los nodos de trabajo de Spark al controlador. Existen implicaciones de rendimiento cuando se trabaja con una gran cantidad de datos, ya que esto se traduce en grandes volúmenes de datos que se transfieren desde los nodos de trabajo de Spark al controlador. Para pequeñas cantidades de datos (como aquí), esto está perfectamente bien, pero, como una cuestión de costumbre, casi siempre debería usar el método take(n) en su lugar; devuelve los primeros n elementos del RDD en lugar de todo el conjunto de datos. Es un método más eficiente porque primero escanea una partición y usa esas estadísticas para determinar el número de particiones necesarias para devolver los resultados.\n",
        "<img src=\"https://drive.google.com/uc?export=view&id=1QWs2K13TW0wT2HK1h-4AkaOzKCFd3pFD\" width=800 height=400/>\n",
        "\n"
      ]
    },
    {
      "cell_type": "markdown",
      "metadata": {
        "id": "jFDAnRK3H8Ng"
      },
      "source": [
        "#### Getting Ready"
      ]
    },
    {
      "cell_type": "code",
      "metadata": {
        "id": "Q71Cz1AdH8Ng",
        "colab": {
          "base_uri": "https://localhost:8080/"
        },
        "outputId": "55714c4f-d46c-4187-cb04-5c644886a563"
      },
      "source": [
        "airports = sc.sparkContext.textFile(path + 'airport-codes-na.txt').map(lambda line: line.split(\"\\t\"))\n",
        "airports.take(5)"
      ],
      "execution_count": 24,
      "outputs": [
        {
          "output_type": "execute_result",
          "data": {
            "text/plain": [
              "[['City', 'State', 'Country', 'IATA'],\n",
              " ['Abbotsford', 'BC', 'Canada', 'YXX'],\n",
              " ['Aberdeen', 'SD', 'USA', 'ABR'],\n",
              " ['Abilene', 'TX', 'USA', 'ABI'],\n",
              " ['Akron', 'OH', 'USA', 'CAK']]"
            ]
          },
          "metadata": {},
          "execution_count": 24
        }
      ]
    },
    {
      "cell_type": "code",
      "metadata": {
        "id": "GdsshY1IH8Nh",
        "colab": {
          "base_uri": "https://localhost:8080/"
        },
        "outputId": "c6e98b8e-2dd8-4325-9d24-35ef54886684"
      },
      "source": [
        "flights = sc.sparkContext.textFile(path + 'departuredelays.csv').map(lambda line: line.split(\",\"))\n",
        "flights.take(5)"
      ],
      "execution_count": 25,
      "outputs": [
        {
          "output_type": "execute_result",
          "data": {
            "text/plain": [
              "[['date', 'delay', 'distance', 'origin', 'destination'],\n",
              " ['01011245', '6', '602', 'ABE', 'ATL'],\n",
              " ['01020600', '-8', '369', 'ABE', 'DTW'],\n",
              " ['01021245', '-2', '602', 'ABE', 'ATL'],\n",
              " ['01020605', '-4', '602', 'ABE', 'ATL']]"
            ]
          },
          "metadata": {},
          "execution_count": 25
        }
      ]
    },
    {
      "cell_type": "markdown",
      "metadata": {
        "id": "v_ZZYB6QH8Nh"
      },
      "source": [
        "### map()\n",
        "\n",
        "Los componentes clave de esta transformación de mapa son:\n",
        "\n",
        "1. lambda: una función anónima (es decir, una función definida sin un\n",
        "nombre) compuesto por una sola expresión\n",
        "2. split: Estamos usando la función split de PySpark (dentro de pyspark.sql.functions) para dividir una cadena alrededor de un patrón de expresión regular; en este caso, nuestro delimitador es una pestaña (es decir, \\ t)"
      ]
    },
    {
      "cell_type": "code",
      "metadata": {
        "id": "PFhAqaIsH8Nh",
        "colab": {
          "base_uri": "https://localhost:8080/"
        },
        "outputId": "11b1eca8-2828-4e5a-83bc-b6ae93dc1513"
      },
      "source": [
        "airports.map(lambda c: (c[0], c[1])).take(5)"
      ],
      "execution_count": 26,
      "outputs": [
        {
          "output_type": "execute_result",
          "data": {
            "text/plain": [
              "[('City', 'State'),\n",
              " ('Abbotsford', 'BC'),\n",
              " ('Aberdeen', 'SD'),\n",
              " ('Abilene', 'TX'),\n",
              " ('Akron', 'OH')]"
            ]
          },
          "metadata": {},
          "execution_count": 26
        }
      ]
    },
    {
      "cell_type": "markdown",
      "metadata": {
        "id": "J2CSfnMGH8Nh"
      },
      "source": [
        "### filter()\n",
        "\n",
        "La transformación de filter(f) devuelve un nuevo RDD basado en la selección de elementos para lo cual la función f devuelve verdadero."
      ]
    },
    {
      "cell_type": "code",
      "metadata": {
        "id": "9EmvfVROH8Nh",
        "colab": {
          "base_uri": "https://localhost:8080/"
        },
        "outputId": "49955793-31d3-4559-c2cb-bc26dc2fe1c2"
      },
      "source": [
        "airports.map(lambda c: (c[0], c[1])).filter(lambda c: c[1] == \"WA\").take(5)\n"
      ],
      "execution_count": 27,
      "outputs": [
        {
          "output_type": "execute_result",
          "data": {
            "text/plain": [
              "[('Bellingham', 'WA'),\n",
              " ('Moses Lake', 'WA'),\n",
              " ('Pasco', 'WA'),\n",
              " ('Pullman', 'WA'),\n",
              " ('Seattle', 'WA')]"
            ]
          },
          "metadata": {},
          "execution_count": 27
        }
      ]
    },
    {
      "cell_type": "markdown",
      "metadata": {
        "id": "PGHJbXq6H8Nh"
      },
      "source": [
        "### flatMap()\n",
        "\n",
        "La transformación flatMap (f) es similar a map, pero el nuevo RDD se aplana\n",
        "todos los elementos (es decir, una secuencia de eventos)."
      ]
    },
    {
      "cell_type": "code",
      "metadata": {
        "id": "MRLUB0RTH8Nh",
        "colab": {
          "base_uri": "https://localhost:8080/"
        },
        "outputId": "eeb5322c-7d14-4fc0-8eef-e7de5d3d9936"
      },
      "source": [
        "airports.filter(lambda c: c[1] == \"WA\").map(lambda c: (c[0], c[1])).flatMap(lambda x: x).take(10)"
      ],
      "execution_count": 28,
      "outputs": [
        {
          "output_type": "execute_result",
          "data": {
            "text/plain": [
              "['Bellingham',\n",
              " 'WA',\n",
              " 'Moses Lake',\n",
              " 'WA',\n",
              " 'Pasco',\n",
              " 'WA',\n",
              " 'Pullman',\n",
              " 'WA',\n",
              " 'Seattle',\n",
              " 'WA']"
            ]
          },
          "metadata": {},
          "execution_count": 28
        }
      ]
    },
    {
      "cell_type": "markdown",
      "metadata": {
        "id": "phQTQhZBH8Ni"
      },
      "source": [
        "### distinct()\n",
        "\n",
        "La transformación distinct() devuelve un nuevo RDD que contiene los distintos\n",
        "elementos del RDD de origen."
      ]
    },
    {
      "cell_type": "code",
      "metadata": {
        "id": "3BEJNsOVH8Ni",
        "colab": {
          "base_uri": "https://localhost:8080/"
        },
        "outputId": "a53c449d-2ce5-4604-eb70-f0dfadcf5f60"
      },
      "source": [
        "airports.map(lambda c: c[2]).distinct().take(5)"
      ],
      "execution_count": 29,
      "outputs": [
        {
          "output_type": "execute_result",
          "data": {
            "text/plain": [
              "['Country', 'Canada', 'USA']"
            ]
          },
          "metadata": {},
          "execution_count": 29
        }
      ]
    },
    {
      "cell_type": "markdown",
      "metadata": {
        "id": "8vM1dO2fH8Ni"
      },
      "source": [
        "### sample()\n",
        "\n",
        "La transformación de sample(withReplacement, fraction, seed) muestrea una fracción de los datos, con o sin reemplazo (el parámetro withReplacement), basándose en una semilla aleatoria."
      ]
    },
    {
      "cell_type": "code",
      "metadata": {
        "id": "u70Sf8nwH8Ni",
        "colab": {
          "base_uri": "https://localhost:8080/"
        },
        "outputId": "911b02e7-79bf-47c9-cd8b-8f21d4bbcd43"
      },
      "source": [
        "flights.map(lambda c: c[3]).sample(False, 0.001, 123).take(5)"
      ],
      "execution_count": 30,
      "outputs": [
        {
          "output_type": "execute_result",
          "data": {
            "text/plain": [
              "['ABQ', 'AEX', 'AGS', 'ANC', 'ATL']"
            ]
          },
          "metadata": {},
          "execution_count": 30
        }
      ]
    },
    {
      "cell_type": "markdown",
      "metadata": {
        "id": "f8AFVxxVH8Ni"
      },
      "source": [
        "### join()\n",
        "\n",
        "La transformación de leftOuterJoin(RDD) devuelve un RDD de (key, (val_left, val_right)) al llamar a RDD (key, val_left) y RDD (key, val_right). Los Outer joins se admiten a través de left outer join, right outer join, y full outer join."
      ]
    },
    {
      "cell_type": "code",
      "metadata": {
        "id": "lCTVm4rMH8Nj",
        "colab": {
          "base_uri": "https://localhost:8080/"
        },
        "outputId": "07b9aa20-7694-4275-b498-45691152021d"
      },
      "source": [
        "flights.map(lambda c: (c[3], c[0])).take(5)"
      ],
      "execution_count": 31,
      "outputs": [
        {
          "output_type": "execute_result",
          "data": {
            "text/plain": [
              "[('origin', 'date'),\n",
              " ('ABE', '01011245'),\n",
              " ('ABE', '01020600'),\n",
              " ('ABE', '01021245'),\n",
              " ('ABE', '01020605')]"
            ]
          },
          "metadata": {},
          "execution_count": 31
        }
      ]
    },
    {
      "cell_type": "code",
      "metadata": {
        "id": "JMJkzfSbH8Nj",
        "colab": {
          "base_uri": "https://localhost:8080/"
        },
        "outputId": "7e4466cd-9c8b-44f3-ea64-8c328920c427"
      },
      "source": [
        "flights.take(5)"
      ],
      "execution_count": 32,
      "outputs": [
        {
          "output_type": "execute_result",
          "data": {
            "text/plain": [
              "[['date', 'delay', 'distance', 'origin', 'destination'],\n",
              " ['01011245', '6', '602', 'ABE', 'ATL'],\n",
              " ['01020600', '-8', '369', 'ABE', 'DTW'],\n",
              " ['01021245', '-2', '602', 'ABE', 'ATL'],\n",
              " ['01020605', '-4', '602', 'ABE', 'ATL']]"
            ]
          },
          "metadata": {},
          "execution_count": 32
        }
      ]
    },
    {
      "cell_type": "code",
      "metadata": {
        "id": "wFf_TuFsH8Nj",
        "colab": {
          "base_uri": "https://localhost:8080/"
        },
        "outputId": "6bc28394-5b20-47b9-cd4c-b1cfa65fb5f3"
      },
      "source": [
        "airports.map(lambda c: (c[3], c[1])).take(5)"
      ],
      "execution_count": 33,
      "outputs": [
        {
          "output_type": "execute_result",
          "data": {
            "text/plain": [
              "[('IATA', 'State'), ('YXX', 'BC'), ('ABR', 'SD'), ('ABI', 'TX'), ('CAK', 'OH')]"
            ]
          },
          "metadata": {},
          "execution_count": 33
        }
      ]
    },
    {
      "cell_type": "code",
      "metadata": {
        "id": "Im4O7L1OH8Nj",
        "colab": {
          "base_uri": "https://localhost:8080/"
        },
        "outputId": "06fa1b61-3ae5-47da-d82e-a67f20f24db8"
      },
      "source": [
        "flt = flights.map(lambda c: (c[3], c[0]))\n",
        "air = airports.map(lambda c: (c[3], c[1]))\n",
        "flt.join(air).take(5)"
      ],
      "execution_count": 34,
      "outputs": [
        {
          "output_type": "execute_result",
          "data": {
            "text/plain": [
              "[('ADQ', ('01011710', 'AK')),\n",
              " ('ADQ', ('01021710', 'AK')),\n",
              " ('ADQ', ('01020815', 'AK')),\n",
              " ('ADQ', ('01031710', 'AK')),\n",
              " ('ADQ', ('01030815', 'AK'))]"
            ]
          },
          "metadata": {},
          "execution_count": 34
        }
      ]
    },
    {
      "cell_type": "code",
      "metadata": {
        "id": "HtOLz63lH8Nj",
        "colab": {
          "base_uri": "https://localhost:8080/"
        },
        "outputId": "9aad1c32-460f-4c7e-a47b-10c6f4df007a"
      },
      "source": [
        "flt = flights.map(lambda c: (c[3], c[0]))\n",
        "air = airports.map(lambda c: (c[3], c[1]))\n",
        "flt.join(air)"
      ],
      "execution_count": 35,
      "outputs": [
        {
          "output_type": "execute_result",
          "data": {
            "text/plain": [
              "PythonRDD[80] at RDD at PythonRDD.scala:53"
            ]
          },
          "metadata": {},
          "execution_count": 35
        }
      ]
    },
    {
      "cell_type": "markdown",
      "metadata": {
        "id": "2KJxavLbH8Nk"
      },
      "source": [
        "### repartition()\n",
        "\n",
        "La transformación de repartition(n) reparte el RDD en n particiones mediante la reorganización aleatoria y la distribución uniforme de los datos a través de la red. Esto puede mejorar el rendimiento al ejecutar más subprocesos paralelos al mismo tiempo"
      ]
    },
    {
      "cell_type": "code",
      "metadata": {
        "id": "gO28-JUbH8Nk",
        "colab": {
          "base_uri": "https://localhost:8080/"
        },
        "outputId": "e0eb2574-71ae-41b5-fd87-5d004a7654e0"
      },
      "source": [
        "flights.getNumPartitions()"
      ],
      "execution_count": 36,
      "outputs": [
        {
          "output_type": "execute_result",
          "data": {
            "text/plain": [
              "2"
            ]
          },
          "metadata": {},
          "execution_count": 36
        }
      ]
    },
    {
      "cell_type": "code",
      "metadata": {
        "id": "PDnjQc-mH8Nk",
        "colab": {
          "base_uri": "https://localhost:8080/"
        },
        "outputId": "8471705d-a49d-4419-cbc6-88a4febb20ef"
      },
      "source": [
        "flights2 = flights.repartition(8)\n",
        "flights2.getNumPartitions()"
      ],
      "execution_count": 37,
      "outputs": [
        {
          "output_type": "execute_result",
          "data": {
            "text/plain": [
              "8"
            ]
          },
          "metadata": {},
          "execution_count": 37
        }
      ]
    },
    {
      "cell_type": "code",
      "metadata": {
        "id": "645Yx-AeH8Nk",
        "colab": {
          "base_uri": "https://localhost:8080/"
        },
        "outputId": "8c7741e5-a965-4e4d-b5f0-ff913fbb571e"
      },
      "source": [
        "rdd = sc.sparkContext.parallelize([1, 2, 3, 4], 4)\n",
        "def f(splitIndex, iterator): yield splitIndex\n",
        "rdd.mapPartitionsWithIndex(f).sum()\n"
      ],
      "execution_count": 38,
      "outputs": [
        {
          "output_type": "execute_result",
          "data": {
            "text/plain": [
              "6"
            ]
          },
          "metadata": {},
          "execution_count": 38
        }
      ]
    },
    {
      "cell_type": "markdown",
      "metadata": {
        "id": "6X8jF0eQ108x"
      },
      "source": [
        "## <font color='green'>**Ejercicio 2**</font>\n",
        "\n",
        "Otro tipo e datos interesante en spark corresponde al dataframe.\n",
        "\n",
        "1. utilce en sc, el metodo read.json para leer el archivo people.json.\n",
        "2. Posteriormente muestre los datos.\n",
        "3. Visualice el esquema con printSchema\n",
        "4. Realice un describe\n",
        "5 Cree una nueva columna que se llame 3x age en la cual se almacena el valor de la edad multiplicado por 3.\n",
        "\n"
      ]
    },
    {
      "cell_type": "code",
      "metadata": {
        "id": "fRM_5Kxy15ot"
      },
      "source": [
        "df = sc.read.json(path + 'people.json')"
      ],
      "execution_count": 39,
      "outputs": []
    },
    {
      "cell_type": "code",
      "metadata": {
        "id": "R3TRQ9bq28p3",
        "colab": {
          "base_uri": "https://localhost:8080/"
        },
        "outputId": "571147c7-af5c-4107-85e1-6b56f1218406"
      },
      "source": [
        "# Muestre la  data\n",
        "df.show()"
      ],
      "execution_count": 40,
      "outputs": [
        {
          "output_type": "stream",
          "name": "stdout",
          "text": [
            "+----+--------+\n",
            "| age|    name|\n",
            "+----+--------+\n",
            "|NULL| Michael|\n",
            "|  30|    Andy|\n",
            "|  19|  Justin|\n",
            "|  11|     Ana|\n",
            "|  44|Patricia|\n",
            "|  89|     Leo|\n",
            "+----+--------+\n",
            "\n"
          ]
        }
      ]
    },
    {
      "cell_type": "code",
      "metadata": {
        "id": "5ROFh0wp2_Z-",
        "colab": {
          "base_uri": "https://localhost:8080/"
        },
        "outputId": "fe747c85-7126-4a2c-f957-3c10bebd80ff"
      },
      "source": [
        "# view schema\n",
        "df.printSchema()"
      ],
      "execution_count": 41,
      "outputs": [
        {
          "output_type": "stream",
          "name": "stdout",
          "text": [
            "root\n",
            " |-- age: long (nullable = true)\n",
            " |-- name: string (nullable = true)\n",
            "\n"
          ]
        }
      ]
    },
    {
      "cell_type": "code",
      "metadata": {
        "id": "Ypg1Exfo3z0-",
        "colab": {
          "base_uri": "https://localhost:8080/"
        },
        "outputId": "a7a2cb72-93c9-4191-bbe6-aee6fc38d7e3"
      },
      "source": [
        "df.describe().show()"
      ],
      "execution_count": 42,
      "outputs": [
        {
          "output_type": "stream",
          "name": "stdout",
          "text": [
            "+-------+------------------+--------+\n",
            "|summary|               age|    name|\n",
            "+-------+------------------+--------+\n",
            "|  count|                 5|       6|\n",
            "|   mean|              38.6|    NULL|\n",
            "| stddev|30.778239065937477|    NULL|\n",
            "|    min|                11|     Ana|\n",
            "|    max|                89|Patricia|\n",
            "+-------+------------------+--------+\n",
            "\n"
          ]
        }
      ]
    },
    {
      "cell_type": "code",
      "metadata": {
        "id": "qoTGPTLB35em",
        "colab": {
          "base_uri": "https://localhost:8080/"
        },
        "outputId": "e05e5e9f-211f-4197-a67b-f9444c72c3c1"
      },
      "source": [
        "df.withColumn('3x age', df['age']*3).show()"
      ],
      "execution_count": 43,
      "outputs": [
        {
          "output_type": "stream",
          "name": "stdout",
          "text": [
            "+----+--------+------+\n",
            "| age|    name|3x age|\n",
            "+----+--------+------+\n",
            "|NULL| Michael|  NULL|\n",
            "|  30|    Andy|    90|\n",
            "|  19|  Justin|    57|\n",
            "|  11|     Ana|    33|\n",
            "|  44|Patricia|   132|\n",
            "|  89|     Leo|   267|\n",
            "+----+--------+------+\n",
            "\n"
          ]
        }
      ]
    },
    {
      "cell_type": "markdown",
      "metadata": {
        "id": "fE1QvJmF155j"
      },
      "source": [
        "## <font color='green'>**Fin ejercicio 2**</font>"
      ]
    },
    {
      "cell_type": "markdown",
      "metadata": {
        "id": "EqPvHwNiH8Nm"
      },
      "source": [
        "## RDD Actions\n",
        "\n",
        "Same Getting Ready as Transformations"
      ]
    },
    {
      "cell_type": "code",
      "metadata": {
        "id": "9lCbDgvbH8Nm",
        "colab": {
          "base_uri": "https://localhost:8080/"
        },
        "outputId": "b90a1622-8958-4a10-daf6-74cbb7efa686"
      },
      "source": [
        "# take(n)\n",
        "airports.take(3)"
      ],
      "execution_count": 44,
      "outputs": [
        {
          "output_type": "execute_result",
          "data": {
            "text/plain": [
              "[['City', 'State', 'Country', 'IATA'],\n",
              " ['Abbotsford', 'BC', 'Canada', 'YXX'],\n",
              " ['Aberdeen', 'SD', 'USA', 'ABR']]"
            ]
          },
          "metadata": {},
          "execution_count": 44
        }
      ]
    },
    {
      "cell_type": "code",
      "metadata": {
        "id": "DmcEcqmsH8Nm",
        "colab": {
          "base_uri": "https://localhost:8080/"
        },
        "outputId": "0f970aef-bc81-44b1-bf04-16a9a6ea575f"
      },
      "source": [
        "# collect()\n",
        "airports.filter(lambda c: c[1] == \"WA\").collect()"
      ],
      "execution_count": 45,
      "outputs": [
        {
          "output_type": "execute_result",
          "data": {
            "text/plain": [
              "[['Bellingham', 'WA', 'USA', 'BLI'],\n",
              " ['Moses Lake', 'WA', 'USA', 'MWH'],\n",
              " ['Pasco', 'WA', 'USA', 'PSC'],\n",
              " ['Pullman', 'WA', 'USA', 'PUW'],\n",
              " ['Seattle', 'WA', 'USA', 'SEA'],\n",
              " ['Spokane', 'WA', 'USA', 'GEG'],\n",
              " ['Walla Walla', 'WA', 'USA', 'ALW'],\n",
              " ['Wenatchee', 'WA', 'USA', 'EAT'],\n",
              " ['Yakima', 'WA', 'USA', 'YKM']]"
            ]
          },
          "metadata": {},
          "execution_count": 45
        }
      ]
    },
    {
      "cell_type": "code",
      "metadata": {
        "id": "zzMuV9xPH8Nm",
        "colab": {
          "base_uri": "https://localhost:8080/"
        },
        "outputId": "45d0f52d-2061-48a4-d27f-e88024558ab1"
      },
      "source": [
        "# reduce(f)\n",
        "flights\\\n",
        "   .filter(lambda c: c[3] == 'SEA' and c[4] == 'SFO')\\\n",
        "   .map(lambda c: int(c[1]))\\\n",
        "   .reduce(lambda x, y: x + y)"
      ],
      "execution_count": 46,
      "outputs": [
        {
          "output_type": "execute_result",
          "data": {
            "text/plain": [
              "22293"
            ]
          },
          "metadata": {},
          "execution_count": 46
        }
      ]
    },
    {
      "cell_type": "code",
      "metadata": {
        "id": "snMJdxohH8Nm",
        "colab": {
          "base_uri": "https://localhost:8080/"
        },
        "outputId": "6792b960-bc86-42ce-9261-cfef18561915"
      },
      "source": [
        "flights.take(5)"
      ],
      "execution_count": 47,
      "outputs": [
        {
          "output_type": "execute_result",
          "data": {
            "text/plain": [
              "[['date', 'delay', 'distance', 'origin', 'destination'],\n",
              " ['01011245', '6', '602', 'ABE', 'ATL'],\n",
              " ['01020600', '-8', '369', 'ABE', 'DTW'],\n",
              " ['01021245', '-2', '602', 'ABE', 'ATL'],\n",
              " ['01020605', '-4', '602', 'ABE', 'ATL']]"
            ]
          },
          "metadata": {},
          "execution_count": 47
        }
      ]
    },
    {
      "cell_type": "code",
      "metadata": {
        "id": "I0mySwggHMwP",
        "colab": {
          "base_uri": "https://localhost:8080/"
        },
        "outputId": "4f15e8a3-3a99-4b18-93a1-4e2a77fb0019"
      },
      "source": [
        "airports.filter(lambda c: c[1] == \"WA\").count()"
      ],
      "execution_count": 48,
      "outputs": [
        {
          "output_type": "execute_result",
          "data": {
            "text/plain": [
              "9"
            ]
          },
          "metadata": {},
          "execution_count": 48
        }
      ]
    },
    {
      "cell_type": "code",
      "metadata": {
        "id": "gM6toiynH8Nn",
        "colab": {
          "base_uri": "https://localhost:8080/"
        },
        "outputId": "89654484-e0d0-4332-932b-dd2ecee5d0d9"
      },
      "source": [
        "# count\n",
        "airports.filter(lambda c: c[1] == \"WA\").count()"
      ],
      "execution_count": 49,
      "outputs": [
        {
          "output_type": "execute_result",
          "data": {
            "text/plain": [
              "9"
            ]
          },
          "metadata": {},
          "execution_count": 49
        }
      ]
    },
    {
      "cell_type": "code",
      "metadata": {
        "id": "C1e8e_aYH8Nn"
      },
      "source": [
        "# saveAsTextFile\n",
        "airports.saveAsTextFile(\"/tmp/denny/airports\")"
      ],
      "execution_count": 50,
      "outputs": []
    },
    {
      "cell_type": "markdown",
      "metadata": {
        "id": "1fug83PzY7VU"
      },
      "source": [
        "## <font color='green'>**Ejercicio 3**</font>\n",
        "\n",
        "**Estime el valor de $\\pi$ utilizando spark:**\n",
        "\n",
        "Este cálculo se basa en la siguiente heurística: Por definición, π es el área A Círculo de un círculo con radio r = 1 (generalmente, $πr^2$ es el área de un círculo de radio r).\n",
        "\n",
        "Luego, se circunscribe este círculo unitario con un cuadrado cuya área es igual a $A_{Square} = 4$. La razón de estas dos áreas equivale a $\\frac{A_{Circle}}{A_{Square}} = \\frac{π}{4}$ y da la probabilidad geométrica de que un punto dentro del cuadrado se encuentre dentro del círculo.\n",
        "\n",
        "Supongamos ahora que elegimos un gran número $n$ de puntos al azar dentro del cuadrado circunscrito, por ejemplo, lanzando dardos o dejando caer gotas de lluvia sobre él. Un cierto número $n_{in}$ de estos puntos terminará dentro del área descrita por el círculo, mientras que el número restante $n_{out}$ de estos puntos quedará fuera de él (pero dentro del cuadrado). Por lo tanto, $n_{in} + n_{out} = n$  y la probabilidad de que un punto se encuentre dentro del área del círculo es $\\frac{n_{in}}{n}$.\n",
        "\n",
        "Entonces heuristicamente uno tiene $\\frac{A_{Circle}}{A_{Square}} \\approx \\frac{n_{in}}{n}$ con lo cual podemos estimar pi."
      ]
    },
    {
      "cell_type": "code",
      "metadata": {
        "id": "gtw1GwrJ4QcA"
      },
      "source": [
        "def f(_):\n",
        "    x = random() * 2 - 1\n",
        "    y = random() * 2 - 1\n",
        "    return 1 if x ** 2 + y ** 2 <= 1 else 0\n",
        "partitions = 10\n",
        "n = 100000 * partitions"
      ],
      "execution_count": 51,
      "outputs": []
    },
    {
      "cell_type": "code",
      "metadata": {
        "id": "EIpVXIqz4vtf",
        "colab": {
          "base_uri": "https://localhost:8080/"
        },
        "outputId": "a9d3895e-385a-47b6-96b3-29dc113c7787"
      },
      "source": [
        "import sys\n",
        "from random import random\n",
        "from operator import add\n",
        "count = sc.sparkContext.parallelize(range(1, n + 1), partitions).map(f).reduce(add)\n",
        "print(\"Aproximadamente pi es %f\" % (4.0 * count / n))\n",
        "sc.stop()"
      ],
      "execution_count": 52,
      "outputs": [
        {
          "output_type": "stream",
          "name": "stdout",
          "text": [
            "Aproximadamente pi es 3.135280\n"
          ]
        }
      ]
    },
    {
      "cell_type": "markdown",
      "metadata": {
        "id": "EW1dzYZfY8wV"
      },
      "source": [
        "## <font color='green'>**Fin Ejercicio 3**</font>"
      ]
    },
    {
      "cell_type": "markdown",
      "metadata": {
        "id": "xuoPNi6C46tE"
      },
      "source": [
        "## <font color='green'>**Ejercicio 4**</font>\n",
        "\n",
        "Construya con Spark una rutina que permita realizar el conteo de palabras.\n",
        "\n",
        "1. Lea un archivo text con spark.read.text\n",
        "2. Realice un map de cada una de las lines leidas rdd.map(lambda r: r[0])\n",
        "3. Para cada linea, realice un flatMap, dpnde se realiza un split por espacio.\n",
        "4. Luego volvemos a mapear cada palabra a la tupla (palabra,1)\n",
        "5 Realice un reducedByKey(add) para contar las repeticiones de cada palaba.\n",
        "6. Finalmente realice un collect e imprima los resultados palabra, cantidad."
      ]
    },
    {
      "cell_type": "code",
      "metadata": {
        "id": "uIbGcJK65JZx",
        "colab": {
          "base_uri": "https://localhost:8080/",
          "height": 1000
        },
        "outputId": "c18e9791-fb61-4b3f-d22d-25d136c3b27b"
      },
      "source": [
        "from google.colab import files\n",
        "files.upload()"
      ],
      "execution_count": 53,
      "outputs": [
        {
          "output_type": "display_data",
          "data": {
            "text/plain": [
              "<IPython.core.display.HTML object>"
            ],
            "text/html": [
              "\n",
              "     <input type=\"file\" id=\"files-4e34767b-da17-4b4c-a9a3-164ec82e8e46\" name=\"files[]\" multiple disabled\n",
              "        style=\"border:none\" />\n",
              "     <output id=\"result-4e34767b-da17-4b4c-a9a3-164ec82e8e46\">\n",
              "      Upload widget is only available when the cell has been executed in the\n",
              "      current browser session. Please rerun this cell to enable.\n",
              "      </output>\n",
              "      <script>// Copyright 2017 Google LLC\n",
              "//\n",
              "// Licensed under the Apache License, Version 2.0 (the \"License\");\n",
              "// you may not use this file except in compliance with the License.\n",
              "// You may obtain a copy of the License at\n",
              "//\n",
              "//      http://www.apache.org/licenses/LICENSE-2.0\n",
              "//\n",
              "// Unless required by applicable law or agreed to in writing, software\n",
              "// distributed under the License is distributed on an \"AS IS\" BASIS,\n",
              "// WITHOUT WARRANTIES OR CONDITIONS OF ANY KIND, either express or implied.\n",
              "// See the License for the specific language governing permissions and\n",
              "// limitations under the License.\n",
              "\n",
              "/**\n",
              " * @fileoverview Helpers for google.colab Python module.\n",
              " */\n",
              "(function(scope) {\n",
              "function span(text, styleAttributes = {}) {\n",
              "  const element = document.createElement('span');\n",
              "  element.textContent = text;\n",
              "  for (const key of Object.keys(styleAttributes)) {\n",
              "    element.style[key] = styleAttributes[key];\n",
              "  }\n",
              "  return element;\n",
              "}\n",
              "\n",
              "// Max number of bytes which will be uploaded at a time.\n",
              "const MAX_PAYLOAD_SIZE = 100 * 1024;\n",
              "\n",
              "function _uploadFiles(inputId, outputId) {\n",
              "  const steps = uploadFilesStep(inputId, outputId);\n",
              "  const outputElement = document.getElementById(outputId);\n",
              "  // Cache steps on the outputElement to make it available for the next call\n",
              "  // to uploadFilesContinue from Python.\n",
              "  outputElement.steps = steps;\n",
              "\n",
              "  return _uploadFilesContinue(outputId);\n",
              "}\n",
              "\n",
              "// This is roughly an async generator (not supported in the browser yet),\n",
              "// where there are multiple asynchronous steps and the Python side is going\n",
              "// to poll for completion of each step.\n",
              "// This uses a Promise to block the python side on completion of each step,\n",
              "// then passes the result of the previous step as the input to the next step.\n",
              "function _uploadFilesContinue(outputId) {\n",
              "  const outputElement = document.getElementById(outputId);\n",
              "  const steps = outputElement.steps;\n",
              "\n",
              "  const next = steps.next(outputElement.lastPromiseValue);\n",
              "  return Promise.resolve(next.value.promise).then((value) => {\n",
              "    // Cache the last promise value to make it available to the next\n",
              "    // step of the generator.\n",
              "    outputElement.lastPromiseValue = value;\n",
              "    return next.value.response;\n",
              "  });\n",
              "}\n",
              "\n",
              "/**\n",
              " * Generator function which is called between each async step of the upload\n",
              " * process.\n",
              " * @param {string} inputId Element ID of the input file picker element.\n",
              " * @param {string} outputId Element ID of the output display.\n",
              " * @return {!Iterable<!Object>} Iterable of next steps.\n",
              " */\n",
              "function* uploadFilesStep(inputId, outputId) {\n",
              "  const inputElement = document.getElementById(inputId);\n",
              "  inputElement.disabled = false;\n",
              "\n",
              "  const outputElement = document.getElementById(outputId);\n",
              "  outputElement.innerHTML = '';\n",
              "\n",
              "  const pickedPromise = new Promise((resolve) => {\n",
              "    inputElement.addEventListener('change', (e) => {\n",
              "      resolve(e.target.files);\n",
              "    });\n",
              "  });\n",
              "\n",
              "  const cancel = document.createElement('button');\n",
              "  inputElement.parentElement.appendChild(cancel);\n",
              "  cancel.textContent = 'Cancel upload';\n",
              "  const cancelPromise = new Promise((resolve) => {\n",
              "    cancel.onclick = () => {\n",
              "      resolve(null);\n",
              "    };\n",
              "  });\n",
              "\n",
              "  // Wait for the user to pick the files.\n",
              "  const files = yield {\n",
              "    promise: Promise.race([pickedPromise, cancelPromise]),\n",
              "    response: {\n",
              "      action: 'starting',\n",
              "    }\n",
              "  };\n",
              "\n",
              "  cancel.remove();\n",
              "\n",
              "  // Disable the input element since further picks are not allowed.\n",
              "  inputElement.disabled = true;\n",
              "\n",
              "  if (!files) {\n",
              "    return {\n",
              "      response: {\n",
              "        action: 'complete',\n",
              "      }\n",
              "    };\n",
              "  }\n",
              "\n",
              "  for (const file of files) {\n",
              "    const li = document.createElement('li');\n",
              "    li.append(span(file.name, {fontWeight: 'bold'}));\n",
              "    li.append(span(\n",
              "        `(${file.type || 'n/a'}) - ${file.size} bytes, ` +\n",
              "        `last modified: ${\n",
              "            file.lastModifiedDate ? file.lastModifiedDate.toLocaleDateString() :\n",
              "                                    'n/a'} - `));\n",
              "    const percent = span('0% done');\n",
              "    li.appendChild(percent);\n",
              "\n",
              "    outputElement.appendChild(li);\n",
              "\n",
              "    const fileDataPromise = new Promise((resolve) => {\n",
              "      const reader = new FileReader();\n",
              "      reader.onload = (e) => {\n",
              "        resolve(e.target.result);\n",
              "      };\n",
              "      reader.readAsArrayBuffer(file);\n",
              "    });\n",
              "    // Wait for the data to be ready.\n",
              "    let fileData = yield {\n",
              "      promise: fileDataPromise,\n",
              "      response: {\n",
              "        action: 'continue',\n",
              "      }\n",
              "    };\n",
              "\n",
              "    // Use a chunked sending to avoid message size limits. See b/62115660.\n",
              "    let position = 0;\n",
              "    do {\n",
              "      const length = Math.min(fileData.byteLength - position, MAX_PAYLOAD_SIZE);\n",
              "      const chunk = new Uint8Array(fileData, position, length);\n",
              "      position += length;\n",
              "\n",
              "      const base64 = btoa(String.fromCharCode.apply(null, chunk));\n",
              "      yield {\n",
              "        response: {\n",
              "          action: 'append',\n",
              "          file: file.name,\n",
              "          data: base64,\n",
              "        },\n",
              "      };\n",
              "\n",
              "      let percentDone = fileData.byteLength === 0 ?\n",
              "          100 :\n",
              "          Math.round((position / fileData.byteLength) * 100);\n",
              "      percent.textContent = `${percentDone}% done`;\n",
              "\n",
              "    } while (position < fileData.byteLength);\n",
              "  }\n",
              "\n",
              "  // All done.\n",
              "  yield {\n",
              "    response: {\n",
              "      action: 'complete',\n",
              "    }\n",
              "  };\n",
              "}\n",
              "\n",
              "scope.google = scope.google || {};\n",
              "scope.google.colab = scope.google.colab || {};\n",
              "scope.google.colab._files = {\n",
              "  _uploadFiles,\n",
              "  _uploadFilesContinue,\n",
              "};\n",
              "})(self);\n",
              "</script> "
            ]
          },
          "metadata": {}
        },
        {
          "output_type": "stream",
          "name": "stdout",
          "text": [
            "Saving airport-codes-na.txt to airport-codes-na.txt\n"
          ]
        },
        {
          "output_type": "execute_result",
          "data": {
            "text/plain": [
              "{'airport-codes-na.txt': b'City\\tState\\tCountry\\tIATA\\rAbbotsford\\tBC\\tCanada\\tYXX\\rAberdeen\\tSD\\tUSA\\tABR\\rAbilene\\tTX\\tUSA\\tABI\\rAkron\\tOH\\tUSA\\tCAK\\rAlamosa\\tCO\\tUSA\\tALS\\rAlbany\\tGA\\tUSA\\tABY\\rAlbany\\tNY\\tUSA\\tALB\\rAlbuquerque\\tNM\\tUSA\\tABQ\\rAlexandria\\tLA\\tUSA\\tAEX\\rAllentown\\tPA\\tUSA\\tABE\\rAlliance\\tNE\\tUSA\\tAIA\\rAlpena\\tMI\\tUSA\\tAPN\\rAltoona\\tPA\\tUSA\\tAOO\\rAmarillo\\tTX\\tUSA\\tAMA\\rAnahim Lake\\tBC\\tCanada\\tYAA\\rAnchorage\\tAK\\tUSA\\tANC\\rAppleton\\tWI\\tUSA\\tATW\\rArviat\\tNWT\\tCanada\\tYEK\\rAsheville\\tNC\\tUSA\\tAVL\\rAspen\\tCO\\tUSA\\tASE\\rAthens\\tGA\\tUSA\\tAHN\\rAtlanta\\tGA\\tUSA\\tATL\\rAtlantic City\\tNJ\\tUSA\\tACY\\rAugusta\\tGA\\tUSA\\tAGS\\rAugusta\\tME\\tUSA\\tAUG\\rAustin\\tTX\\tUSA\\tAUS\\rBagotville\\tPQ\\tCanada\\tYBG\\rBaie-Comeau\\tPQ\\tCanada\\tYBC\\rBakersfield\\tCA\\tUSA\\tBFL\\rBaltimore\\tMD\\tUSA\\tBWI\\rBangor\\tME\\tUSA\\tBGR\\rBar Harbor\\tME\\tUSA\\tBHB\\rBarrow\\tAK\\tUSA\\tBRW\\rBaton Rouge\\tLA\\tUSA\\tBTR\\rBeaumont\\tTX\\tUSA\\tBPT\\rBeckley\\tWV\\tUSA\\tBKW\\rBedford\\tMA\\tUSA\\tBED\\rBellingham\\tWA\\tUSA\\tBLI\\rBemidji\\tMN\\tUSA\\tBJI\\rBethel\\tAK\\tUSA\\tBET\\rBettles\\tAK\\tUSA\\tBTT\\rBillings\\tMT\\tUSA\\tBIL\\rBinghamton\\tNY\\tUSA\\tBGM\\rBirmingham\\tAL\\tUSA\\tBHM\\rBismarck\\tND\\tUSA\\tBIS\\rBloomington\\tIL\\tUSA\\tBMI\\rBloomington\\tIN\\tUSA\\tBMG\\rBluefield\\tWV\\tUSA\\tBLF\\rBoise\\tID\\tUSA\\tBOI\\rBoston\\tMA\\tUSA\\tBOS\\rBozeman\\tMT\\tUSA\\tBZN\\rBrookings\\tSD\\tUSA\\tBKX\\rBrownsville\\tTX\\tUSA\\tBRO\\rBrunswick\\tGA\\tUSA\\tBQK\\rBuffalo\\tNY\\tUSA\\tBUF\\rBurbank\\tCA\\tUSA\\tBUR\\rBurlington\\tIA\\tUSA\\tBRL\\rBurlington\\tMA\\tUSA\\tBBF\\rBurlington\\tVT\\tUSA\\tBTV\\rButte\\tMT\\tUSA\\tBTM\\rCalgary\\tAB\\tCanada\\tYYC\\rCampbell River\\tBC\\tCanada\\tYBL\\r\"Cap-aux-Meules, Magdalens Islands\"\\tPQ\\tCanada\\tYGR\\rCape Girardeau\\tMO\\tUSA\\tCGI\\rCarlsbad\\tCA\\tUSA\\tCLD\\rCarlsbad\\tNM\\tUSA\\tCNM\\rCasper\\tWY\\tUSA\\tCPR\\rCastlegar\\tBC\\tCanada\\tYCG\\rCedar Rapids\\tIA\\tUSA\\tCID\\rChampaign\\tIL\\tUSA\\tCMI\\rCharleston\\tSC\\tUSA\\tCHS\\rCharleston\\tWV\\tUSA\\tCRW\\rCharlotte\\tNC\\tUSA\\tCLT\\rCharlottesville\\tVA\\tUSA\\tCHO\\rCharlottetown\\tPEI\\tCanada\\tYYG\\rChattanooga\\tTN\\tUSA\\tCHA\\rCheyenne\\tWY\\tUSA\\tCYS\\rChibougamau\\tPQ\\tCanada\\tYMT\\rChicago\\tIL\\tUSA\\tMDW\\rChicago\\tIL\\tUSA\\tORD\\rChicago\\tIL\\tUSA\\tCHI\\rChico\\tCA\\tUSA\\tCIC\\rChurchill\\tMB\\tCanada\\tYYQ\\rCincinnati\\tOH\\tUSA\\tCVG\\rClarksburg\\tWV\\tUSA\\tCKB\\rCleveland\\tOH\\tUSA\\tCLE\\rClovis\\tNM\\tUSA\\tCVN\\rCody\\tWY\\tUSA\\tCOD\\rCollege Station\\tTX\\tUSA\\tCLL\\rColorado Springs\\tCO\\tUSA\\tCOS\\rColumbia\\tMO\\tUSA\\tCOU\\rColumbia\\tSC\\tUSA\\tCAE\\rColumbus\\tGA\\tUSA\\tCSG\\rColumbus\\tIN\\tUSA\\tCLU\\rColumbus\\tMS\\tUSA\\tGTR\\rColumbus\\tNE\\tUSA\\tOLU\\rColumbus\\tOH\\tUSA\\tCMH\\rCordova\\tAK\\tUSA\\tCDV\\rCorpus Christi\\tTX\\tUSA\\tCRP\\rCranbrook\\tBC\\tCanada\\tYXC\\rDallas\\tTX\\tUSA\\tDFW\\rDallas\\tTX\\tUSA\\tDAL\\rDayton\\tOH\\tUSA\\tDAY\\rDaytona Beach\\tFL\\tUSA\\tDAB\\rDecatur\\tIL\\tUSA\\tDEC\\rDeer Lake\\tNF\\tCanada\\tYDF\\rDenver\\tCO\\tUSA\\tDEN\\rDes Moines\\tIA\\tUSA\\tDSM\\rDetroit\\tMI\\tUSA\\tDTW\\rDetroit\\tMI\\tUSA\\tDTT\\rDevils Lake\\tND\\tUSA\\tDVL\\rDickinson\\tND\\tUSA\\tDIK\\rDillingham\\tAK\\tUSA\\tDLG\\rDodge City\\tKS\\tUSA\\tDDC\\rDothan\\tAL\\tUSA\\tDHN\\rDryden\\tON\\tCanada\\tYHD\\rDu Bois\\tPA\\tUSA\\tDUJ\\rDubuque\\tIA\\tUSA\\tDBQ\\rDuluth\\tMN\\tUSA\\tDLH\\rDurango\\tCO\\tUSA\\tDRO\\r\"Dutch Harbor, Un Island\"\\tAK\\tUSA\\tDUT\\rEau Claire\\tWI\\tUSA\\tEAU\\rEdmonton\\tAB\\tCanada\\tYEG\\rEek\\tAK\\tUSA\\tEEK\\rEl Centro\\tCA\\tUSA\\tIPL\\rEl Dorado\\tAR\\tUSA\\tELD\\rEl Paso\\tTX\\tUSA\\tELP\\rElko\\tNV\\tUSA\\tEKO\\rElmira\\tNY\\tUSA\\tELM\\rEnid\\tOK\\tUSA\\tWDG\\rErie\\tPA\\tUSA\\tERI\\rEscanaba\\tMI\\tUSA\\tESC\\rEugene\\tOR\\tUSA\\tEUG\\rEureka\\tCA\\tUSA\\tACV\\rEvansville\\tIN\\tUSA\\tEVV\\rFairbanks\\tAK\\tUSA\\tFAI\\rFargo\\tND\\tUSA\\tFAR\\rFarmington\\tNM\\tUSA\\tFMN\\rFayetteville\\tAR\\tUSA\\tXNA\\rFayetteville\\tNC\\tUSA\\tFAY\\rFlagstaff\\tAZ\\tUSA\\tFLG\\rFlin Flon\\tMB\\tCanada\\tYFO\\rFlint\\tMI\\tUSA\\tFNT\\rFlorence\\tSC\\tUSA\\tFLO\\rFort Dodge\\tIA\\tUSA\\tFOD\\rFort Lauderdale\\tFL\\tUSA\\tFLL\\rFort Leonard Wood\\tMO\\tUSA\\tTBN\\rFort McMurray\\tAB\\tCanada\\tYMM\\rFort Myers\\tFL\\tUSA\\tRSW\\rFort Nelson\\tBC\\tCanada\\tYYE\\rFort Saint John\\tBC\\tCanada\\tYXJ\\rFort Smith\\tAR\\tUSA\\tFSM\\rFort Smith\\tNWT\\tCanada\\tYSM\\rFort Walton Beach\\tFL\\tUSA\\tVPS\\rFort Wayne\\tIN\\tUSA\\tFWA\\rFort Yukon\\tAK\\tUSA\\tFYU\\rFredericton\\tNB\\tCanada\\tYFC\\rFresno\\tCA\\tUSA\\tFAT\\rGainesville\\tFL\\tUSA\\tGNV\\rGander\\tNF\\tCanada\\tYQX\\rGarden City\\tKS\\tUSA\\tGCK\\rGaspe\\tPQ\\tCanada\\tYGP\\rGillette\\tWY\\tUSA\\tGCC\\rGlendive\\tMT\\tUSA\\tGDV\\rGrand Forks\\tND\\tUSA\\tGFK\\rGrand Island\\tNE\\tUSA\\tGRI\\rGrand Junction\\tCO\\tUSA\\tGJT\\rGrand Rapids\\tMI\\tUSA\\tGRR\\rGrande Prairie\\tAB\\tCanada\\tYQU\\rGreat Bend\\tKS\\tUSA\\tGBD\\rGreat Falls\\tMT\\tUSA\\tGTF\\rGreen Bay\\tWI\\tUSA\\tGRB\\rGreenbrier\\tWV\\tUSA\\tLWB\\rGreensboro\\tNC\\tUSA\\tGSO\\rGreenville\\tMS\\tUSA\\tGLH\\rGreenville\\tNC\\tUSA\\tPGV\\rGreenville\\tSC\\tUSA\\tGSP\\rGulfport\\tMS\\tUSA\\tGPT\\rGunnison\\tCO\\tUSA\\tGUC\\rHagerstown\\tMD\\tUSA\\tHGR\\rHalifax\\tNS\\tCanada\\tYHZ\\rHamilton\\tON\\tCanada\\tYHM\\r\"Hana, Maui\"\\tHI\\tUSA\\tHNM\\rHancock\\tMI\\tUSA\\tCMX\\rHarlingen\\tTX\\tUSA\\tHRL\\rHarrisburg\\tPA\\tUSA\\tMDT\\rHarrison\\tAR\\tUSA\\tHRO\\rHartford\\tCT\\tUSA\\tBDL\\rHavre\\tMT\\tUSA\\tHVR\\rHays\\tKS\\tUSA\\tHYS\\rHelena\\tMT\\tUSA\\tHLN\\rHibbing\\tMN\\tUSA\\tHIB\\rHilo\\tHI\\tUSA\\tBig\\rHilton Head Island\\tSC\\tUSA\\tHHH\\rHobbs\\tNM\\tUSA\\tHOB\\rHomer\\tAK\\tUSA\\tHOM\\r\"Honolulu, Oahu\"\\tHI\\tUSA\\tHNL\\r\"Hoolehua, Molokai\"\\tHI\\tUSA\\tMKK\\rHot Springs\\tAR\\tUSA\\tHOT\\rHouston\\tTX\\tUSA\\tIAH\\rHouston\\tTX\\tUSA\\tHOU\\rHouston\\tTX\\tUSA\\tEFD\\rHuntington\\tWV\\tUSA\\tHTS\\rHuntsville\\tAL\\tUSA\\tHSV\\rHuron\\tSD\\tUSA\\tHON\\rHyannis\\tMA\\tUSA\\tHYA\\rIdaho Falls\\tID\\tUSA\\tIDA\\rIndianapolis\\tIN\\tUSA\\tIND\\rInternational Falls\\tMN\\tUSA\\tINL\\rInyokern\\tCA\\tUSA\\tIYK\\rIqaluit\\tNunavut\\tCanada\\tYFB\\rIron Mountain\\tMI\\tUSA\\tIMT\\rIronwood\\tMI\\tUSA\\tIWD\\rIslip\\tNY\\tUSA\\tISP\\rIthaca\\tNY\\tUSA\\tITH\\rJackson Hole\\tWY\\tUSA\\tJAC\\rJackson\\tMS\\tUSA\\tJAN\\rJackson\\tTN\\tUSA\\tMKL\\rJacksonville\\tFL\\tUSA\\tJAX\\rJacksonville\\tNC\\tUSA\\tOAJ\\rJamestown\\tND\\tUSA\\tJMS\\rJamestown\\tNY\\tUSA\\tJHW\\rJohnstown\\tPA\\tUSA\\tJST\\rJonesboro\\tAR\\tUSA\\tJBR\\rJoplin\\tMO\\tUSA\\tJLN\\rJuneau\\tAK\\tUSA\\tJNU\\r\"Kahului, Maui\"\\tHI\\tUSA\\tOGG\\rKailua-Kona\\tHawaii\\tUSA\\tBig\\rKalamazoo\\tMI\\tUSA\\tAZO\\r\"Kalaupapa, Molokai\"\\tHI\\tUSA\\tLUP\\rKalispell\\tMT\\tUSA\\tFCA\\rKamloops\\tBC\\tCanada\\tYKA\\rKamuela\\tHawaii\\tUSA\\tBig\\rKansas City\\tMO\\tUSA\\tMCI\\r\"Kapalua, Maui\"\\tHI\\tUSA\\tJHM\\rKearney\\tNE\\tUSA\\tEAR\\rKelowna\\tBC\\tCanada\\tYLW\\rKenai\\tAK\\tUSA\\tENA\\rKenora\\tON\\tCanada\\tYQK\\rKetchikan\\tAK\\tUSA\\tKTN\\rKey West\\tFL\\tUSA\\tEYW\\rKilleen\\tTX\\tUSA\\tGRK\\rKing Salmon\\tAK\\tUSA\\tAKN\\rKingman\\tAZ\\tUSA\\tIGM\\rKingston\\tON\\tCanada\\tYGK\\rKirksville\\tMO\\tUSA\\tIRK\\rKlamath Falls\\tOR\\tUSA\\tLMT\\rKnoxville\\tTN\\tUSA\\tTYS\\rKodiak\\tAK\\tUSA\\tADQ\\rLa Crosse\\tWI\\tUSA\\tLSE\\rLafayette\\tLA\\tUSA\\tLFT\\rLake Charles\\tLA\\tUSA\\tLCH\\rLake Havasu City\\tAZ\\tUSA\\tHII\\r\"Lanai City, Lanai\"\\tHI\\tUSA\\tLNY\\rLancaster\\tPA\\tUSA\\tLNS\\rLansing\\tMI\\tUSA\\tLAN\\rLaramie\\tWY\\tUSA\\tLAR\\rLaredo\\tTX\\tUSA\\tLRD\\rLas Cruces\\tNM\\tUSA\\tLRU\\rLas Vegas\\tNV\\tUSA\\tLAS\\rLatrobe\\tPA\\tUSA\\tLBE\\rLaurel\\tMS\\tUSA\\tPIB\\rLawton\\tOK\\tUSA\\tLAW\\rLebanon\\tNH\\tUSA\\tLEB\\rLethbridge\\tAB\\tCanada\\tYQL\\rLewiston\\tID\\tUSA\\tLWS\\rLewiston\\tME\\tUSA\\tLEW\\rLewistown\\tMT\\tUSA\\tLWT\\rLexington\\tKY\\tUSA\\tLEX\\rLiberal\\tKS\\tUSA\\tLBL\\r\"Lihue, Kauai\"\\tHI\\tUSA\\tLIH\\rLincoln\\tNE\\tUSA\\tLNK\\rLittle Rock\\tAR\\tUSA\\tLIT\\rLondon\\tON\\tCanada\\tYXU\\rLong Beach\\tCA\\tUSA\\tLGB\\rLongview\\tTX\\tUSA\\tGGG\\rLos Angeles\\tCA\\tUSA\\tQLA\\rLos Angeles\\tCA\\tUSA\\tLAX\\rLouisville\\tKY\\tUSA\\tSDF\\rLubbock\\tTX\\tUSA\\tLBB\\rLynchburg\\tVA\\tUSA\\tLYH\\rMacon\\tGA\\tUSA\\tMCN\\rMadison\\tWI\\tUSA\\tMSN\\rManchester\\tNH\\tUSA\\tMHT\\rManhattan\\tKS\\tUSA\\tMHK\\rManistee\\tMI\\tUSA\\tMBL\\rMarion\\tIL\\tUSA\\tMWA\\rMarquette\\tMI\\tUSA\\tMQT\\rMartha\\'s Vineyard\\tMA\\tUSA\\tMVY\\rMason City\\tIA\\tUSA\\tMCW\\rMassena\\tNY\\tUSA\\tMSS\\rMcAllen\\tTX\\tUSA\\tMFE\\rMcCook\\tNE\\tUSA\\tMCK\\rMedford\\tOR\\tUSA\\tMFR\\rMedicine Hat\\tAB\\tCanada\\tYXH\\rMelbourne\\tFL\\tUSA\\tMLB\\rMemphis\\tTN\\tUSA\\tMEM\\rMeridian\\tMS\\tUSA\\tMEI\\rMiami\\tFL\\tUSA\\tMIA\\rMidland\\tTX\\tUSA\\tMAF\\rMiles City\\tMT\\tUSA\\tMLS\\rMilwaukee\\tWI\\tUSA\\tMKE\\rMinneapolis\\tMN\\tUSA\\tMSP\\rMinot\\tND\\tUSA\\tMOT\\rMissoula\\tMT\\tUSA\\tMSO\\rMobile\\tAL\\tUSA\\tMOB\\rModesto\\tCA\\tUSA\\tMOD\\rMoline\\tIL\\tUSA\\tMLI\\rMoncton\\tNB\\tCanada\\tYQM\\rMonroe\\tLA\\tUSA\\tMLU\\rMont-Joli\\tPQ\\tCanada\\tYYY\\rMonterey\\tCA\\tUSA\\tMRY\\rMontgomery\\tAL\\tUSA\\tMGM\\rMontreal\\tPQ\\tCanada\\tYUL\\rMontreal\\tPQ\\tCanada\\tYMQ\\rMontrose\\tCO\\tUSA\\tMTJ\\rMorgantown\\tWV\\tUSA\\tMGW\\rMoses Lake\\tWA\\tUSA\\tMWH\\rMuscle Shoals\\tAL\\tUSA\\tMSL\\rMuskegon\\tMI\\tUSA\\tMKG\\rMyrtle Beach\\tSC\\tUSA\\tMYR\\rNanaimo\\tBC\\tCanada\\tYCD\\rNantucket\\tMA\\tUSA\\tACK\\rNaples\\tFL\\tUSA\\tAPF\\rNashville\\tTN\\tUSA\\tBNA\\rNew Bern\\tNC\\tUSA\\tEWN\\rNew Haven\\tCT\\tUSA\\tHVN\\rNew Orleans\\tLA\\tUSA\\tMSY\\rNew York\\tNY\\tUSA\\tJFK\\rNew York\\tNY\\tUSA\\tNYC\\rNew York\\tNY\\tUSA\\tLGA\\rNewark\\tNJ\\tUSA\\tEWR\\rNewburgh\\tNY\\tUSA\\tSWF\\rNewport News\\tVA\\tUSA\\tPHF\\rNome\\tAK\\tUSA\\tOME\\rNorfolk\\tVA\\tUSA\\tORF\\rNorth Bay\\tON\\tCanada\\tYYB\\rNorth Bend\\tOR\\tUSA\\tOTH\\rNorth Platte\\tNE\\tUSA\\tLBF\\rOakland\\tCA\\tUSA\\tOAK\\rOgdensburg\\tNY\\tUSA\\tOGS\\rOklahoma City\\tOK\\tUSA\\tOKC\\rOmaha\\tNE\\tUSA\\tOMA\\rOntario\\tCA\\tUSA\\tONT\\rOrange County\\tCA\\tUSA\\tSNA\\rOrlando\\tFL\\tUSA\\tMCO\\rOshkosh\\tWI\\tUSA\\tOSH\\rOttawa\\tON\\tCanada\\tYOW\\rOwensboro\\tKY\\tUSA\\tOWB\\rOxnard\\tCA\\tUSA\\tOXR\\rPaducah\\tKY\\tUSA\\tPAH\\rPage\\tAZ\\tUSA\\tPGA\\rPalm Springs\\tCA\\tUSA\\tPSP\\rPanama City\\tFL\\tUSA\\tPFN\\rParkersburg\\tWV\\tUSA\\tPKB\\rPasco\\tWA\\tUSA\\tPSC\\rPellston\\tMI\\tUSA\\tPLN\\rPendleton\\tOR\\tUSA\\tPDT\\rPensacola\\tFL\\tUSA\\tPNS\\rPenticton\\tBC\\tCanada\\tYYF\\rPeoria\\tIL\\tUSA\\tPIA\\rPhiladelphia\\tPA\\tUSA\\tPHL\\rPhoenix\\tAZ\\tUSA\\tPHX\\rPierre\\tSD\\tUSA\\tPIR\\rPinehurst\\tNC\\tUSA\\tSOP\\rPittsburgh\\tPA\\tUSA\\tPIT\\rPocatello\\tID\\tUSA\\tPIH\\rPonca City\\tOK\\tUSA\\tPNC\\rPort Hardy\\tBC\\tCanada\\tYZT\\rPortland\\tME\\tUSA\\tPWM\\rPortland\\tOR\\tUSA\\tPDX\\rPortsmouth\\tNH\\tUSA\\tPSM\\rPowell River\\tBC\\tCanada\\tYPW\\rPrescott\\tAZ\\tUSA\\tPRC\\rPresque Isle\\tME\\tUSA\\tPQI\\rPrince George\\tBC\\tCanada\\tYXS\\rPrince Rupert\\tBC\\tCanada\\tYPR\\rProvidence\\tRI\\tUSA\\tPVD\\rProvincetown\\tMA\\tUSA\\tPVC\\rPueblo\\tCO\\tUSA\\tPUB\\rPullman\\tWA\\tUSA\\tPUW\\rQuebec\\tPQ\\tCanada\\tYQB\\rQuesnel\\tBC\\tCanada\\tYQZ\\rQuincy\\tIL\\tUSA\\tUIN\\rRaleigh\\tNC\\tUSA\\tRDU\\rRankin Inlet\\tNWT\\tCanada\\tYRT\\rRapid City\\tSD\\tUSA\\tRAP\\rRed Lake\\tON\\tCanada\\tYRL\\rRedding\\tCA\\tUSA\\tRDD\\rRedmond\\tOR\\tUSA\\tRDM\\rRegina\\tSK\\tCanada\\tYQR\\rReno\\tNV\\tUSA\\tRNO\\rRhinelander\\tWI\\tUSA\\tRHI\\rRichmond\\tVA\\tUSA\\tRIC\\rRiverton\\tWY\\tUSA\\tRIW\\rRoanoke\\tVA\\tUSA\\tROA\\rRoberval\\tPQ\\tCanada\\tYRJ\\rRochester\\tMN\\tUSA\\tRST\\rRochester\\tNY\\tUSA\\tROC\\rRock Springs\\tWY\\tUSA\\tRKS\\rRockford\\tIL\\tUSA\\tRFD\\rRockland\\tME\\tUSA\\tRKD\\rRoswell\\tNM\\tUSA\\tROW\\rRouyn-Noranda\\tPQ\\tCanada\\tYUY\\rRutland\\tVT\\tUSA\\tRUT\\rSacramento\\tCA\\tUSA\\tSMF\\rSaginaw\\tMI\\tUSA\\tMBS\\rSaint John\\tNB\\tCanada\\tYSJ\\rSalina\\tKS\\tUSA\\tSLN\\rSalisbury\\tMD\\tUSA\\tSBY\\rSalt Lake City\\tUT\\tUSA\\tSLC\\rSan Angelo\\tTX\\tUSA\\tSJT\\rSan Antonio\\tTX\\tUSA\\tSAT\\rSan Diego\\tCA\\tUSA\\tSAN\\rSan Francisco\\tCA\\tUSA\\tQSF\\rSan Francisco\\tCA\\tUSA\\tSFO\\rSan Jose\\tCA\\tUSA\\tSJC\\rSan Luis Obispo\\tCA\\tUSA\\tSBP\\rSand Point\\tAK\\tUSA\\tSDP\\r\"Sandspit, Queen Charlotte Islands\"\\tBC\\tCanada\\tYZP\\rSanta Barbara\\tCA\\tUSA\\tSBA\\rSanta Fe\\tNM\\tUSA\\tSAF\\rSanta Maria\\tCA\\tUSA\\tSMX\\rSanta Rosa\\tCA\\tUSA\\tSTS\\rSaranac Lake\\tNY\\tUSA\\tSLK\\rSarasota\\tFL\\tUSA\\tSRQ\\rSarnia\\tON\\tCanada\\tYZR\\rSaskatoon\\tSK\\tCanada\\tYXE\\rSault Ste. Marie\\tMI\\tUSA\\tCIU\\rSault Ste. Marie\\tON\\tCanada\\tYAM\\rSavannah\\tGA\\tUSA\\tSAV\\rScottsbluff\\tNE\\tUSA\\tBFF\\rSeattle\\tWA\\tUSA\\tSEA\\rSept-Iles\\tPQ\\tCanada\\tYZV\\rShenandoah Valley Airport\\tVA\\tUSA\\tSHD\\rSheridan\\tWY\\tUSA\\tSHR\\rShreveport\\tLA\\tUSA\\tSHV\\rSidney\\tMT\\tUSA\\tSDY\\rSilver City\\tNM\\tUSA\\tSVC\\rSioux City\\tIA\\tUSA\\tSUX\\rSioux Falls\\tSD\\tUSA\\tFSD\\rSioux Lookout\\tON\\tCanada\\tYXL\\rSitka\\tAK\\tUSA\\tSIT\\rSkagway\\tAK\\tUSA\\tSGY\\rSmithers\\tBC\\tCanada\\tYYD\\rSouth Bend\\tIN\\tUSA\\tSBN\\rSpokane\\tWA\\tUSA\\tGEG\\rSpringfield\\tIL\\tUSA\\tSPI\\rSpringfield\\tMA\\tUSA\\tCEF\\rSpringfield\\tMO\\tUSA\\tSGF\\rSpringfield\\tVT\\tUSA\\tVSF\\rSt. Cloud\\tMN\\tUSA\\tSTC\\rSt. George\\tUT\\tUSA\\tSGU\\rSt. John\\'s\\tNF\\tCanada\\tYYT\\rSt. Louis\\tMO\\tUSA\\tSTL\\rSt. Petersburg\\tFL\\tUSA\\tPIE\\rState College\\tPA\\tUSA\\tSCE\\rSteamboat Springs\\tCO\\tUSA\\tSBS\\rSudbury\\tON\\tCanada\\tYSB\\rSun Valley\\tID\\tUSA\\tSUN\\r\"Sydney, Cape Breton Island\"\\tNS\\tCanada\\tYQY\\rSyracuse\\tNY\\tUSA\\tSYR\\rTallahassee\\tFL\\tUSA\\tTLH\\rTampa\\tFL\\tUSA\\tTPA\\rTelluride\\tCO\\tUSA\\tTEX\\rTerrace\\tBC\\tCanada\\tYXT\\rTexarkana\\tAR\\tUSA\\tTXK\\rThief River Falls\\tMN\\tUSA\\tTVF\\rThompson\\tMB\\tCanada\\tYTH\\rThunder Bay\\tON\\tCanada\\tYQT\\rTimmins\\tON\\tCanada\\tYTS\\rToksook Bay\\tAK\\tUSA\\tOOK\\rToledo\\tOH\\tUSA\\tTOL\\rEureka\\tKS\\tUSA\\tTOP\\rToronto\\tON\\tCanada\\tYYZ\\rToronto\\tON\\tCanada\\tYTZ\\rToronto\\tON\\tCanada\\tYTO\\rTraverse City\\tMI\\tUSA\\tTVC\\rTrenton\\tNJ\\tUSA\\tTTN\\rTri-City Airport\\tTN\\tUSA\\tTRI\\rTucson\\tAZ\\tUSA\\tTUS\\rTulsa\\tOK\\tUSA\\tTUL\\rTupelo\\tMS\\tUSA\\tTUP\\rTwin Falls\\tID\\tUSA\\tTWF\\rTyler\\tTX\\tUSA\\tTYR\\rUnalakleet\\tAK\\tUSA\\tUNK\\rVail\\tCO\\tUSA\\tEGE\\rVal-d\\'Or\\tPQ\\tCanada\\tYVO\\rValdez\\tAK\\tUSA\\tVDZ\\rValdosta\\tGA\\tUSA\\tVLD\\rVancouver\\tBC\\tCanada\\tYVR\\rVictoria\\tBC\\tCanada\\tYYJ\\rVictoria\\tTX\\tUSA\\tVCT\\rVisalia\\tCA\\tUSA\\tVIS\\r\"Wabush, Labrador\"\\tNF\\tCanada\\tYWK\\rWaco\\tTX\\tUSA\\tACT\\rWalla Walla\\tWA\\tUSA\\tALW\\rWashington DC\\t\\tUSA\\tIAD\\rWashington DC\\t\\tUSA\\tDCA\\rWashington DC\\t\\tUSA\\tWAS\\rWaterloo\\tIA\\tUSA\\tALO\\rWatertown\\tNY\\tUSA\\tART\\rWatertown\\tSD\\tUSA\\tATY\\rWausau\\tWI\\tUSA\\tCWA\\rWenatchee\\tWA\\tUSA\\tEAT\\rWest Palm Beach\\tFL\\tUSA\\tPBI\\rWest Yellowstone\\tMT\\tUSA\\tWYS\\rWhite Plains\\tNY\\tUSA\\tHPN\\rWhitehorse\\tYT\\tCanada\\tYXY\\rWichita Falls\\tTX\\tUSA\\tSPS\\rWichita\\tKS\\tUSA\\tICT\\rWilkes-Barre\\tPA\\tUSA\\tAVP\\rWilliams Lake\\tBC\\tCanada\\tYWL\\rWilliamsport\\tPA\\tUSA\\tIPT\\rWilliston\\tND\\tUSA\\tISN\\rWilmington\\tDE\\tUSA\\tILG\\rWilmington\\tNC\\tUSA\\tILM\\rWindsor\\tON\\tCanada\\tYQG\\rWinnipeg\\tMB\\tCanada\\tYWG\\rWolf Point\\tMT\\tUSA\\tOLF\\rWorland\\tWY\\tUSA\\tWRL\\rWrangell\\tAK\\tUSA\\tWRG\\rYakima\\tWA\\tUSA\\tYKM\\rYakutat\\tAK\\tUSA\\tYAK\\rYellowknife\\tNWT\\tCanada\\tYZF\\rYuma\\tAZ\\tUSA\\tYUM'}"
            ]
          },
          "metadata": {},
          "execution_count": 53
        }
      ]
    },
    {
      "cell_type": "code",
      "metadata": {
        "id": "6Ng9l-bu5EQ0",
        "colab": {
          "base_uri": "https://localhost:8080/"
        },
        "outputId": "6c976106-379c-408b-c1b9-07c1227c865d"
      },
      "source": [
        "import findspark\n",
        "findspark.init()\n",
        "from pyspark.sql import SparkSession\n",
        "spark = SparkSession.builder.master(\"local[*]\").getOrCreate()\n",
        "\n",
        "\n",
        "lines = spark.read.text('/content/drive/MyDrive/Gonzalo/CD - P2 BIG DATA/CLASE 1/airport-codes-na.txt').rdd.map(lambda r: r[0])\n",
        "counts = lines.flatMap(lambda x: x.split(' ')) \\\n",
        "                  .map(lambda x: (x, 1)) \\\n",
        "                  .reduceByKey(add)\n",
        "output = counts.collect()\n",
        "for (word, count) in output:\n",
        "    print(\"%s: %i\" % (word, count))\n",
        "spark.stop()"
      ],
      "execution_count": 57,
      "outputs": [
        {
          "output_type": "stream",
          "name": "stdout",
          "text": [
            "City\tState\tCountry\tIATA: 1\n",
            "Abbotsford\tBC\tCanada\tYXX: 1\n",
            "Aberdeen\tSD\tUSA\tABR: 1\n",
            "Abilene\tTX\tUSA\tABI: 1\n",
            "Akron\tOH\tUSA\tCAK: 1\n",
            "Alamosa\tCO\tUSA\tALS: 1\n",
            "Albany\tGA\tUSA\tABY: 1\n",
            "Albany\tNY\tUSA\tALB: 1\n",
            "Albuquerque\tNM\tUSA\tABQ: 1\n",
            "Alexandria\tLA\tUSA\tAEX: 1\n",
            "Allentown\tPA\tUSA\tABE: 1\n",
            "Alliance\tNE\tUSA\tAIA: 1\n",
            "Alpena\tMI\tUSA\tAPN: 1\n",
            "Altoona\tPA\tUSA\tAOO: 1\n",
            "Amarillo\tTX\tUSA\tAMA: 1\n",
            "Anahim: 1\n",
            "Lake\tBC\tCanada\tYAA: 1\n",
            "Anchorage\tAK\tUSA\tANC: 1\n",
            "Appleton\tWI\tUSA\tATW: 1\n",
            "Arviat\tNWT\tCanada\tYEK: 1\n",
            "Asheville\tNC\tUSA\tAVL: 1\n",
            "Aspen\tCO\tUSA\tASE: 1\n",
            "Athens\tGA\tUSA\tAHN: 1\n",
            "Atlanta\tGA\tUSA\tATL: 1\n",
            "Atlantic: 1\n",
            "City\tNJ\tUSA\tACY: 1\n",
            "Augusta\tGA\tUSA\tAGS: 1\n",
            "Augusta\tME\tUSA\tAUG: 1\n",
            "Austin\tTX\tUSA\tAUS: 1\n",
            "Bagotville\tPQ\tCanada\tYBG: 1\n",
            "Baie-Comeau\tPQ\tCanada\tYBC: 1\n",
            "Bakersfield\tCA\tUSA\tBFL: 1\n",
            "Baltimore\tMD\tUSA\tBWI: 1\n",
            "Bangor\tME\tUSA\tBGR: 1\n",
            "Bar: 1\n",
            "Harbor\tME\tUSA\tBHB: 1\n",
            "Barrow\tAK\tUSA\tBRW: 1\n",
            "Baton: 1\n",
            "Rouge\tLA\tUSA\tBTR: 1\n",
            "Beaumont\tTX\tUSA\tBPT: 1\n",
            "Beckley\tWV\tUSA\tBKW: 1\n",
            "Bedford\tMA\tUSA\tBED: 1\n",
            "Bellingham\tWA\tUSA\tBLI: 1\n",
            "Bemidji\tMN\tUSA\tBJI: 1\n",
            "Bethel\tAK\tUSA\tBET: 1\n",
            "Bettles\tAK\tUSA\tBTT: 1\n",
            "Billings\tMT\tUSA\tBIL: 1\n",
            "Binghamton\tNY\tUSA\tBGM: 1\n",
            "Birmingham\tAL\tUSA\tBHM: 1\n",
            "Bismarck\tND\tUSA\tBIS: 1\n",
            "Bloomington\tIL\tUSA\tBMI: 1\n",
            "Bloomington\tIN\tUSA\tBMG: 1\n",
            "Bluefield\tWV\tUSA\tBLF: 1\n",
            "Boise\tID\tUSA\tBOI: 1\n",
            "Boston\tMA\tUSA\tBOS: 1\n",
            "Bozeman\tMT\tUSA\tBZN: 1\n",
            "Brookings\tSD\tUSA\tBKX: 1\n",
            "Brownsville\tTX\tUSA\tBRO: 1\n",
            "Brunswick\tGA\tUSA\tBQK: 1\n",
            "Buffalo\tNY\tUSA\tBUF: 1\n",
            "Burbank\tCA\tUSA\tBUR: 1\n",
            "Burlington\tIA\tUSA\tBRL: 1\n",
            "Burlington\tMA\tUSA\tBBF: 1\n",
            "Burlington\tVT\tUSA\tBTV: 1\n",
            "Butte\tMT\tUSA\tBTM: 1\n",
            "Calgary\tAB\tCanada\tYYC: 1\n",
            "Campbell: 1\n",
            "River\tBC\tCanada\tYBL: 1\n",
            "\"Cap-aux-Meules,: 1\n",
            "Magdalens: 1\n",
            "Islands\"\tPQ\tCanada\tYGR: 1\n",
            "Cape: 2\n",
            "Girardeau\tMO\tUSA\tCGI: 1\n",
            "Carlsbad\tCA\tUSA\tCLD: 1\n",
            "Carlsbad\tNM\tUSA\tCNM: 1\n",
            "Casper\tWY\tUSA\tCPR: 1\n",
            "Castlegar\tBC\tCanada\tYCG: 1\n",
            "Cedar: 1\n",
            "Rapids\tIA\tUSA\tCID: 1\n",
            "Champaign\tIL\tUSA\tCMI: 1\n",
            "Charleston\tSC\tUSA\tCHS: 1\n",
            "Charleston\tWV\tUSA\tCRW: 1\n",
            "Charlotte\tNC\tUSA\tCLT: 1\n",
            "Charlottesville\tVA\tUSA\tCHO: 1\n",
            "Charlottetown\tPEI\tCanada\tYYG: 1\n",
            "Chattanooga\tTN\tUSA\tCHA: 1\n",
            "Cheyenne\tWY\tUSA\tCYS: 1\n",
            "Chibougamau\tPQ\tCanada\tYMT: 1\n",
            "Chicago\tIL\tUSA\tMDW: 1\n",
            "Chicago\tIL\tUSA\tORD: 1\n",
            "Chicago\tIL\tUSA\tCHI: 1\n",
            "Chico\tCA\tUSA\tCIC: 1\n",
            "Churchill\tMB\tCanada\tYYQ: 1\n",
            "Cincinnati\tOH\tUSA\tCVG: 1\n",
            "Clarksburg\tWV\tUSA\tCKB: 1\n",
            "Cleveland\tOH\tUSA\tCLE: 1\n",
            "Clovis\tNM\tUSA\tCVN: 1\n",
            "Cody\tWY\tUSA\tCOD: 1\n",
            "College: 1\n",
            "Station\tTX\tUSA\tCLL: 1\n",
            "Colorado: 1\n",
            "Springs\tCO\tUSA\tCOS: 1\n",
            "Columbia\tMO\tUSA\tCOU: 1\n",
            "Columbia\tSC\tUSA\tCAE: 1\n",
            "Columbus\tGA\tUSA\tCSG: 1\n",
            "Columbus\tIN\tUSA\tCLU: 1\n",
            "Columbus\tMS\tUSA\tGTR: 1\n",
            "Columbus\tNE\tUSA\tOLU: 1\n",
            "Columbus\tOH\tUSA\tCMH: 1\n",
            "Cordova\tAK\tUSA\tCDV: 1\n",
            "Corpus: 1\n",
            "Christi\tTX\tUSA\tCRP: 1\n",
            "Cranbrook\tBC\tCanada\tYXC: 1\n",
            "Dallas\tTX\tUSA\tDFW: 1\n",
            "Dallas\tTX\tUSA\tDAL: 1\n",
            "Dayton\tOH\tUSA\tDAY: 1\n",
            "Daytona: 1\n",
            "Beach\tFL\tUSA\tDAB: 1\n",
            "Decatur\tIL\tUSA\tDEC: 1\n",
            "Deer: 1\n",
            "Lake\tNF\tCanada\tYDF: 1\n",
            "Denver\tCO\tUSA\tDEN: 1\n",
            "Des: 1\n",
            "Moines\tIA\tUSA\tDSM: 1\n",
            "Detroit\tMI\tUSA\tDTW: 1\n",
            "Detroit\tMI\tUSA\tDTT: 1\n",
            "Devils: 1\n",
            "Lake\tND\tUSA\tDVL: 1\n",
            "Dickinson\tND\tUSA\tDIK: 1\n",
            "Dillingham\tAK\tUSA\tDLG: 1\n",
            "Dodge: 1\n",
            "City\tKS\tUSA\tDDC: 1\n",
            "Dothan\tAL\tUSA\tDHN: 1\n",
            "Dryden\tON\tCanada\tYHD: 1\n",
            "Du: 1\n",
            "Bois\tPA\tUSA\tDUJ: 1\n",
            "Dubuque\tIA\tUSA\tDBQ: 1\n",
            "Duluth\tMN\tUSA\tDLH: 1\n",
            "Durango\tCO\tUSA\tDRO: 1\n",
            "\"Dutch: 1\n",
            "Harbor,: 1\n",
            "Un: 1\n",
            "Island\"\tAK\tUSA\tDUT: 1\n",
            "Eau: 1\n",
            "Claire\tWI\tUSA\tEAU: 1\n",
            "Edmonton\tAB\tCanada\tYEG: 1\n",
            "Eek\tAK\tUSA\tEEK: 1\n",
            "El: 3\n",
            "Centro\tCA\tUSA\tIPL: 1\n",
            "Dorado\tAR\tUSA\tELD: 1\n",
            "Paso\tTX\tUSA\tELP: 1\n",
            "Elko\tNV\tUSA\tEKO: 1\n",
            "Elmira\tNY\tUSA\tELM: 1\n",
            "Enid\tOK\tUSA\tWDG: 1\n",
            "Erie\tPA\tUSA\tERI: 1\n",
            "Escanaba\tMI\tUSA\tESC: 1\n",
            "Eugene\tOR\tUSA\tEUG: 1\n",
            "Eureka\tCA\tUSA\tACV: 1\n",
            "Evansville\tIN\tUSA\tEVV: 1\n",
            "Fairbanks\tAK\tUSA\tFAI: 1\n",
            "Fargo\tND\tUSA\tFAR: 1\n",
            "Farmington\tNM\tUSA\tFMN: 1\n",
            "Fayetteville\tAR\tUSA\tXNA: 1\n",
            "Fayetteville\tNC\tUSA\tFAY: 1\n",
            "Flagstaff\tAZ\tUSA\tFLG: 1\n",
            "Flin: 1\n",
            "Flon\tMB\tCanada\tYFO: 1\n",
            "Flint\tMI\tUSA\tFNT: 1\n",
            "Florence\tSC\tUSA\tFLO: 1\n",
            "Fort: 12\n",
            "Dodge\tIA\tUSA\tFOD: 1\n",
            "Lauderdale\tFL\tUSA\tFLL: 1\n",
            "Leonard: 1\n",
            "Wood\tMO\tUSA\tTBN: 1\n",
            "McMurray\tAB\tCanada\tYMM: 1\n",
            "Myers\tFL\tUSA\tRSW: 1\n",
            "Nelson\tBC\tCanada\tYYE: 1\n",
            "Saint: 2\n",
            "John\tBC\tCanada\tYXJ: 1\n",
            "Smith\tAR\tUSA\tFSM: 1\n",
            "Smith\tNWT\tCanada\tYSM: 1\n",
            "Walton: 1\n",
            "Beach\tFL\tUSA\tVPS: 1\n",
            "Wayne\tIN\tUSA\tFWA: 1\n",
            "Yukon\tAK\tUSA\tFYU: 1\n",
            "Fredericton\tNB\tCanada\tYFC: 1\n",
            "Fresno\tCA\tUSA\tFAT: 1\n",
            "Gainesville\tFL\tUSA\tGNV: 1\n",
            "Gander\tNF\tCanada\tYQX: 1\n",
            "Garden: 1\n",
            "City\tKS\tUSA\tGCK: 1\n",
            "Gaspe\tPQ\tCanada\tYGP: 1\n",
            "Gillette\tWY\tUSA\tGCC: 1\n",
            "Glendive\tMT\tUSA\tGDV: 1\n",
            "Grand: 4\n",
            "Forks\tND\tUSA\tGFK: 1\n",
            "Island\tNE\tUSA\tGRI: 1\n",
            "Junction\tCO\tUSA\tGJT: 1\n",
            "Rapids\tMI\tUSA\tGRR: 1\n",
            "Grande: 1\n",
            "Prairie\tAB\tCanada\tYQU: 1\n",
            "Great: 2\n",
            "Bend\tKS\tUSA\tGBD: 1\n",
            "Falls\tMT\tUSA\tGTF: 1\n",
            "Green: 1\n",
            "Bay\tWI\tUSA\tGRB: 1\n",
            "Greenbrier\tWV\tUSA\tLWB: 1\n",
            "Greensboro\tNC\tUSA\tGSO: 1\n",
            "Greenville\tMS\tUSA\tGLH: 1\n",
            "Greenville\tNC\tUSA\tPGV: 1\n",
            "Greenville\tSC\tUSA\tGSP: 1\n",
            "Gulfport\tMS\tUSA\tGPT: 1\n",
            "Gunnison\tCO\tUSA\tGUC: 1\n",
            "Hagerstown\tMD\tUSA\tHGR: 1\n",
            "Halifax\tNS\tCanada\tYHZ: 1\n",
            "Hamilton\tON\tCanada\tYHM: 1\n",
            "\"Hana,: 1\n",
            "Maui\"\tHI\tUSA\tHNM: 1\n",
            "Hancock\tMI\tUSA\tCMX: 1\n",
            "Harlingen\tTX\tUSA\tHRL: 1\n",
            "Harrisburg\tPA\tUSA\tMDT: 1\n",
            "Harrison\tAR\tUSA\tHRO: 1\n",
            "Hartford\tCT\tUSA\tBDL: 1\n",
            "Havre\tMT\tUSA\tHVR: 1\n",
            "Hays\tKS\tUSA\tHYS: 1\n",
            "Helena\tMT\tUSA\tHLN: 1\n",
            "Hibbing\tMN\tUSA\tHIB: 1\n",
            "Hilo\tHI\tUSA\tBig: 1\n",
            "Hilton: 1\n",
            "Head: 1\n",
            "Island\tSC\tUSA\tHHH: 1\n",
            "Hobbs\tNM\tUSA\tHOB: 1\n",
            "Homer\tAK\tUSA\tHOM: 1\n",
            "\"Honolulu,: 1\n",
            "Oahu\"\tHI\tUSA\tHNL: 1\n",
            "\"Hoolehua,: 1\n",
            "Molokai\"\tHI\tUSA\tMKK: 1\n",
            "Hot: 1\n",
            "Springs\tAR\tUSA\tHOT: 1\n",
            "Houston\tTX\tUSA\tIAH: 1\n",
            "Houston\tTX\tUSA\tHOU: 1\n",
            "Houston\tTX\tUSA\tEFD: 1\n",
            "Huntington\tWV\tUSA\tHTS: 1\n",
            "Huntsville\tAL\tUSA\tHSV: 1\n",
            "Huron\tSD\tUSA\tHON: 1\n",
            "Hyannis\tMA\tUSA\tHYA: 1\n",
            "Idaho: 1\n",
            "Falls\tID\tUSA\tIDA: 1\n",
            "Indianapolis\tIN\tUSA\tIND: 1\n",
            "International: 1\n",
            "Falls\tMN\tUSA\tINL: 1\n",
            "Inyokern\tCA\tUSA\tIYK: 1\n",
            "Iqaluit\tNunavut\tCanada\tYFB: 1\n",
            "Iron: 1\n",
            "Mountain\tMI\tUSA\tIMT: 1\n",
            "Ironwood\tMI\tUSA\tIWD: 1\n",
            "Islip\tNY\tUSA\tISP: 1\n",
            "Ithaca\tNY\tUSA\tITH: 1\n",
            "Jackson: 1\n",
            "Hole\tWY\tUSA\tJAC: 1\n",
            "Jackson\tMS\tUSA\tJAN: 1\n",
            "Jackson\tTN\tUSA\tMKL: 1\n",
            "Jacksonville\tFL\tUSA\tJAX: 1\n",
            "Jacksonville\tNC\tUSA\tOAJ: 1\n",
            "Jamestown\tND\tUSA\tJMS: 1\n",
            "Jamestown\tNY\tUSA\tJHW: 1\n",
            "Johnstown\tPA\tUSA\tJST: 1\n",
            "Jonesboro\tAR\tUSA\tJBR: 1\n",
            "Joplin\tMO\tUSA\tJLN: 1\n",
            "Juneau\tAK\tUSA\tJNU: 1\n",
            "\"Kahului,: 1\n",
            "Maui\"\tHI\tUSA\tOGG: 1\n",
            "Kailua-Kona\tHawaii\tUSA\tBig: 1\n",
            "Kalamazoo\tMI\tUSA\tAZO: 1\n",
            "\"Kalaupapa,: 1\n",
            "Molokai\"\tHI\tUSA\tLUP: 1\n",
            "Kalispell\tMT\tUSA\tFCA: 1\n",
            "Kamloops\tBC\tCanada\tYKA: 1\n",
            "Kamuela\tHawaii\tUSA\tBig: 1\n",
            "Kansas: 1\n",
            "City\tMO\tUSA\tMCI: 1\n",
            "\"Kapalua,: 1\n",
            "Maui\"\tHI\tUSA\tJHM: 1\n",
            "Kearney\tNE\tUSA\tEAR: 1\n",
            "Kelowna\tBC\tCanada\tYLW: 1\n",
            "Kenai\tAK\tUSA\tENA: 1\n",
            "Kenora\tON\tCanada\tYQK: 1\n",
            "Ketchikan\tAK\tUSA\tKTN: 1\n",
            "Key: 1\n",
            "West\tFL\tUSA\tEYW: 1\n",
            "Killeen\tTX\tUSA\tGRK: 1\n",
            "King: 1\n",
            "Salmon\tAK\tUSA\tAKN: 1\n",
            "Kingman\tAZ\tUSA\tIGM: 1\n",
            "Kingston\tON\tCanada\tYGK: 1\n",
            "Kirksville\tMO\tUSA\tIRK: 1\n",
            "Klamath: 1\n",
            "Falls\tOR\tUSA\tLMT: 1\n",
            "Knoxville\tTN\tUSA\tTYS: 1\n",
            "Kodiak\tAK\tUSA\tADQ: 1\n",
            "La: 1\n",
            "Crosse\tWI\tUSA\tLSE: 1\n",
            "Lafayette\tLA\tUSA\tLFT: 1\n",
            "Lake: 3\n",
            "Charles\tLA\tUSA\tLCH: 1\n",
            "Havasu: 1\n",
            "City\tAZ\tUSA\tHII: 1\n",
            "\"Lanai: 1\n",
            "City,: 1\n",
            "Lanai\"\tHI\tUSA\tLNY: 1\n",
            "Lancaster\tPA\tUSA\tLNS: 1\n",
            "Lansing\tMI\tUSA\tLAN: 1\n",
            "Laramie\tWY\tUSA\tLAR: 1\n",
            "Laredo\tTX\tUSA\tLRD: 1\n",
            "Las: 2\n",
            "Cruces\tNM\tUSA\tLRU: 1\n",
            "Vegas\tNV\tUSA\tLAS: 1\n",
            "Latrobe\tPA\tUSA\tLBE: 1\n",
            "Laurel\tMS\tUSA\tPIB: 1\n",
            "Lawton\tOK\tUSA\tLAW: 1\n",
            "Lebanon\tNH\tUSA\tLEB: 1\n",
            "Lethbridge\tAB\tCanada\tYQL: 1\n",
            "Lewiston\tID\tUSA\tLWS: 1\n",
            "Lewiston\tME\tUSA\tLEW: 1\n",
            "Lewistown\tMT\tUSA\tLWT: 1\n",
            "Lexington\tKY\tUSA\tLEX: 1\n",
            "Liberal\tKS\tUSA\tLBL: 1\n",
            "\"Lihue,: 1\n",
            "Kauai\"\tHI\tUSA\tLIH: 1\n",
            "Lincoln\tNE\tUSA\tLNK: 1\n",
            "Little: 1\n",
            "Rock\tAR\tUSA\tLIT: 1\n",
            "London\tON\tCanada\tYXU: 1\n",
            "Long: 1\n",
            "Beach\tCA\tUSA\tLGB: 1\n",
            "Longview\tTX\tUSA\tGGG: 1\n",
            "Los: 2\n",
            "Angeles\tCA\tUSA\tQLA: 1\n",
            "Angeles\tCA\tUSA\tLAX: 1\n",
            "Louisville\tKY\tUSA\tSDF: 1\n",
            "Lubbock\tTX\tUSA\tLBB: 1\n",
            "Lynchburg\tVA\tUSA\tLYH: 1\n",
            "Macon\tGA\tUSA\tMCN: 1\n",
            "Madison\tWI\tUSA\tMSN: 1\n",
            "Manchester\tNH\tUSA\tMHT: 1\n",
            "Manhattan\tKS\tUSA\tMHK: 1\n",
            "Manistee\tMI\tUSA\tMBL: 1\n",
            "Marion\tIL\tUSA\tMWA: 1\n",
            "Marquette\tMI\tUSA\tMQT: 1\n",
            "Martha's: 1\n",
            "Vineyard\tMA\tUSA\tMVY: 1\n",
            "Mason: 1\n",
            "City\tIA\tUSA\tMCW: 1\n",
            "Massena\tNY\tUSA\tMSS: 1\n",
            "McAllen\tTX\tUSA\tMFE: 1\n",
            "McCook\tNE\tUSA\tMCK: 1\n",
            "Medford\tOR\tUSA\tMFR: 1\n",
            "Medicine: 1\n",
            "Hat\tAB\tCanada\tYXH: 1\n",
            "Melbourne\tFL\tUSA\tMLB: 1\n",
            "Memphis\tTN\tUSA\tMEM: 1\n",
            "Meridian\tMS\tUSA\tMEI: 1\n",
            "Miami\tFL\tUSA\tMIA: 1\n",
            "Midland\tTX\tUSA\tMAF: 1\n",
            "Miles: 1\n",
            "City\tMT\tUSA\tMLS: 1\n",
            "Milwaukee\tWI\tUSA\tMKE: 1\n",
            "Minneapolis\tMN\tUSA\tMSP: 1\n",
            "Minot\tND\tUSA\tMOT: 1\n",
            "Missoula\tMT\tUSA\tMSO: 1\n",
            "Mobile\tAL\tUSA\tMOB: 1\n",
            "Modesto\tCA\tUSA\tMOD: 1\n",
            "Moline\tIL\tUSA\tMLI: 1\n",
            "Moncton\tNB\tCanada\tYQM: 1\n",
            "Monroe\tLA\tUSA\tMLU: 1\n",
            "Mont-Joli\tPQ\tCanada\tYYY: 1\n",
            "Monterey\tCA\tUSA\tMRY: 1\n",
            "Montgomery\tAL\tUSA\tMGM: 1\n",
            "Montreal\tPQ\tCanada\tYUL: 1\n",
            "Montreal\tPQ\tCanada\tYMQ: 1\n",
            "Montrose\tCO\tUSA\tMTJ: 1\n",
            "Morgantown\tWV\tUSA\tMGW: 1\n",
            "Moses: 1\n",
            "Lake\tWA\tUSA\tMWH: 1\n",
            "Muscle: 1\n",
            "Shoals\tAL\tUSA\tMSL: 1\n",
            "Muskegon\tMI\tUSA\tMKG: 1\n",
            "Myrtle: 1\n",
            "Beach\tSC\tUSA\tMYR: 1\n",
            "Nanaimo\tBC\tCanada\tYCD: 1\n",
            "Nantucket\tMA\tUSA\tACK: 1\n",
            "Naples\tFL\tUSA\tAPF: 1\n",
            "Nashville\tTN\tUSA\tBNA: 1\n",
            "New: 6\n",
            "Bern\tNC\tUSA\tEWN: 1\n",
            "Haven\tCT\tUSA\tHVN: 1\n",
            "Orleans\tLA\tUSA\tMSY: 1\n",
            "York\tNY\tUSA\tJFK: 1\n",
            "York\tNY\tUSA\tNYC: 1\n",
            "York\tNY\tUSA\tLGA: 1\n",
            "Newark\tNJ\tUSA\tEWR: 1\n",
            "Newburgh\tNY\tUSA\tSWF: 1\n",
            "Newport: 1\n",
            "News\tVA\tUSA\tPHF: 1\n",
            "Nome\tAK\tUSA\tOME: 1\n",
            "Norfolk\tVA\tUSA\tORF: 1\n",
            "North: 3\n",
            "Bay\tON\tCanada\tYYB: 1\n",
            "Bend\tOR\tUSA\tOTH: 1\n",
            "Platte\tNE\tUSA\tLBF: 1\n",
            "Oakland\tCA\tUSA\tOAK: 1\n",
            "Ogdensburg\tNY\tUSA\tOGS: 1\n",
            "Oklahoma: 1\n",
            "City\tOK\tUSA\tOKC: 1\n",
            "Omaha\tNE\tUSA\tOMA: 1\n",
            "Ontario\tCA\tUSA\tONT: 1\n",
            "Orange: 1\n",
            "County\tCA\tUSA\tSNA: 1\n",
            "Orlando\tFL\tUSA\tMCO: 1\n",
            "Oshkosh\tWI\tUSA\tOSH: 1\n",
            "Ottawa\tON\tCanada\tYOW: 1\n",
            "Owensboro\tKY\tUSA\tOWB: 1\n",
            "Oxnard\tCA\tUSA\tOXR: 1\n",
            "Paducah\tKY\tUSA\tPAH: 1\n",
            "Page\tAZ\tUSA\tPGA: 1\n",
            "Palm: 2\n",
            "Springs\tCA\tUSA\tPSP: 1\n",
            "Panama: 1\n",
            "City\tFL\tUSA\tPFN: 1\n",
            "Parkersburg\tWV\tUSA\tPKB: 1\n",
            "Pasco\tWA\tUSA\tPSC: 1\n",
            "Pellston\tMI\tUSA\tPLN: 1\n",
            "Pendleton\tOR\tUSA\tPDT: 1\n",
            "Pensacola\tFL\tUSA\tPNS: 1\n",
            "Penticton\tBC\tCanada\tYYF: 1\n",
            "Peoria\tIL\tUSA\tPIA: 1\n",
            "Philadelphia\tPA\tUSA\tPHL: 1\n",
            "Phoenix\tAZ\tUSA\tPHX: 1\n",
            "Pierre\tSD\tUSA\tPIR: 1\n",
            "Pinehurst\tNC\tUSA\tSOP: 1\n",
            "Pittsburgh\tPA\tUSA\tPIT: 1\n",
            "Pocatello\tID\tUSA\tPIH: 1\n",
            "Ponca: 1\n",
            "City\tOK\tUSA\tPNC: 1\n",
            "Port: 1\n",
            "Hardy\tBC\tCanada\tYZT: 1\n",
            "Portland\tME\tUSA\tPWM: 1\n",
            "Portland\tOR\tUSA\tPDX: 1\n",
            "Portsmouth\tNH\tUSA\tPSM: 1\n",
            "Powell: 1\n",
            "River\tBC\tCanada\tYPW: 1\n",
            "Prescott\tAZ\tUSA\tPRC: 1\n",
            "Presque: 1\n",
            "Isle\tME\tUSA\tPQI: 1\n",
            "Prince: 2\n",
            "George\tBC\tCanada\tYXS: 1\n",
            "Rupert\tBC\tCanada\tYPR: 1\n",
            "Providence\tRI\tUSA\tPVD: 1\n",
            "Provincetown\tMA\tUSA\tPVC: 1\n",
            "Pueblo\tCO\tUSA\tPUB: 1\n",
            "Pullman\tWA\tUSA\tPUW: 1\n",
            "Quebec\tPQ\tCanada\tYQB: 1\n",
            "Quesnel\tBC\tCanada\tYQZ: 1\n",
            "Quincy\tIL\tUSA\tUIN: 1\n",
            "Raleigh\tNC\tUSA\tRDU: 1\n",
            "Rankin: 1\n",
            "Inlet\tNWT\tCanada\tYRT: 1\n",
            "Rapid: 1\n",
            "City\tSD\tUSA\tRAP: 1\n",
            "Red: 1\n",
            "Lake\tON\tCanada\tYRL: 1\n",
            "Redding\tCA\tUSA\tRDD: 1\n",
            "Redmond\tOR\tUSA\tRDM: 1\n",
            "Regina\tSK\tCanada\tYQR: 1\n",
            "Reno\tNV\tUSA\tRNO: 1\n",
            "Rhinelander\tWI\tUSA\tRHI: 1\n",
            "Richmond\tVA\tUSA\tRIC: 1\n",
            "Riverton\tWY\tUSA\tRIW: 1\n",
            "Roanoke\tVA\tUSA\tROA: 1\n",
            "Roberval\tPQ\tCanada\tYRJ: 1\n",
            "Rochester\tMN\tUSA\tRST: 1\n",
            "Rochester\tNY\tUSA\tROC: 1\n",
            "Rock: 1\n",
            "Springs\tWY\tUSA\tRKS: 1\n",
            "Rockford\tIL\tUSA\tRFD: 1\n",
            "Rockland\tME\tUSA\tRKD: 1\n",
            "Roswell\tNM\tUSA\tROW: 1\n",
            "Rouyn-Noranda\tPQ\tCanada\tYUY: 1\n",
            "Rutland\tVT\tUSA\tRUT: 1\n",
            "Sacramento\tCA\tUSA\tSMF: 1\n",
            "Saginaw\tMI\tUSA\tMBS: 1\n",
            "John\tNB\tCanada\tYSJ: 1\n",
            "Salina\tKS\tUSA\tSLN: 1\n",
            "Salisbury\tMD\tUSA\tSBY: 1\n",
            "Salt: 1\n",
            "City\tUT\tUSA\tSLC: 1\n",
            "San: 7\n",
            "Angelo\tTX\tUSA\tSJT: 1\n",
            "Antonio\tTX\tUSA\tSAT: 1\n",
            "Diego\tCA\tUSA\tSAN: 1\n",
            "Francisco\tCA\tUSA\tQSF: 1\n",
            "Francisco\tCA\tUSA\tSFO: 1\n",
            "Jose\tCA\tUSA\tSJC: 1\n",
            "Luis: 1\n",
            "Obispo\tCA\tUSA\tSBP: 1\n",
            "Sand: 1\n",
            "Point\tAK\tUSA\tSDP: 1\n",
            "\"Sandspit,: 1\n",
            "Queen: 1\n",
            "Charlotte: 1\n",
            "Islands\"\tBC\tCanada\tYZP: 1\n",
            "Santa: 4\n",
            "Barbara\tCA\tUSA\tSBA: 1\n",
            "Fe\tNM\tUSA\tSAF: 1\n",
            "Maria\tCA\tUSA\tSMX: 1\n",
            "Rosa\tCA\tUSA\tSTS: 1\n",
            "Saranac: 1\n",
            "Lake\tNY\tUSA\tSLK: 1\n",
            "Sarasota\tFL\tUSA\tSRQ: 1\n",
            "Sarnia\tON\tCanada\tYZR: 1\n",
            "Saskatoon\tSK\tCanada\tYXE: 1\n",
            "Sault: 2\n",
            "Ste.: 2\n",
            "Marie\tMI\tUSA\tCIU: 1\n",
            "Marie\tON\tCanada\tYAM: 1\n",
            "Savannah\tGA\tUSA\tSAV: 1\n",
            "Scottsbluff\tNE\tUSA\tBFF: 1\n",
            "Seattle\tWA\tUSA\tSEA: 1\n",
            "Sept-Iles\tPQ\tCanada\tYZV: 1\n",
            "Shenandoah: 1\n",
            "Valley: 1\n",
            "Airport\tVA\tUSA\tSHD: 1\n",
            "Sheridan\tWY\tUSA\tSHR: 1\n",
            "Shreveport\tLA\tUSA\tSHV: 1\n",
            "Sidney\tMT\tUSA\tSDY: 1\n",
            "Silver: 1\n",
            "City\tNM\tUSA\tSVC: 1\n",
            "Sioux: 3\n",
            "City\tIA\tUSA\tSUX: 1\n",
            "Falls\tSD\tUSA\tFSD: 1\n",
            "Lookout\tON\tCanada\tYXL: 1\n",
            "Sitka\tAK\tUSA\tSIT: 1\n",
            "Skagway\tAK\tUSA\tSGY: 1\n",
            "Smithers\tBC\tCanada\tYYD: 1\n",
            "South: 1\n",
            "Bend\tIN\tUSA\tSBN: 1\n",
            "Spokane\tWA\tUSA\tGEG: 1\n",
            "Springfield\tIL\tUSA\tSPI: 1\n",
            "Springfield\tMA\tUSA\tCEF: 1\n",
            "Springfield\tMO\tUSA\tSGF: 1\n",
            "Springfield\tVT\tUSA\tVSF: 1\n",
            "St.: 5\n",
            "Cloud\tMN\tUSA\tSTC: 1\n",
            "George\tUT\tUSA\tSGU: 1\n",
            "John's\tNF\tCanada\tYYT: 1\n",
            "Louis\tMO\tUSA\tSTL: 1\n",
            "Petersburg\tFL\tUSA\tPIE: 1\n",
            "State: 1\n",
            "College\tPA\tUSA\tSCE: 1\n",
            "Steamboat: 1\n",
            "Springs\tCO\tUSA\tSBS: 1\n",
            "Sudbury\tON\tCanada\tYSB: 1\n",
            "Sun: 1\n",
            "Valley\tID\tUSA\tSUN: 1\n",
            "\"Sydney,: 1\n",
            "Breton: 1\n",
            "Island\"\tNS\tCanada\tYQY: 1\n",
            "Syracuse\tNY\tUSA\tSYR: 1\n",
            "Tallahassee\tFL\tUSA\tTLH: 1\n",
            "Tampa\tFL\tUSA\tTPA: 1\n",
            "Telluride\tCO\tUSA\tTEX: 1\n",
            "Terrace\tBC\tCanada\tYXT: 1\n",
            "Texarkana\tAR\tUSA\tTXK: 1\n",
            "Thief: 1\n",
            "River: 1\n",
            "Falls\tMN\tUSA\tTVF: 1\n",
            "Thompson\tMB\tCanada\tYTH: 1\n",
            "Thunder: 1\n",
            "Bay\tON\tCanada\tYQT: 1\n",
            "Timmins\tON\tCanada\tYTS: 1\n",
            "Toksook: 1\n",
            "Bay\tAK\tUSA\tOOK: 1\n",
            "Toledo\tOH\tUSA\tTOL: 1\n",
            "Eureka\tKS\tUSA\tTOP: 1\n",
            "Toronto\tON\tCanada\tYYZ: 1\n",
            "Toronto\tON\tCanada\tYTZ: 1\n",
            "Toronto\tON\tCanada\tYTO: 1\n",
            "Traverse: 1\n",
            "City\tMI\tUSA\tTVC: 1\n",
            "Trenton\tNJ\tUSA\tTTN: 1\n",
            "Tri-City: 1\n",
            "Airport\tTN\tUSA\tTRI: 1\n",
            "Tucson\tAZ\tUSA\tTUS: 1\n",
            "Tulsa\tOK\tUSA\tTUL: 1\n",
            "Tupelo\tMS\tUSA\tTUP: 1\n",
            "Twin: 1\n",
            "Falls\tID\tUSA\tTWF: 1\n",
            "Tyler\tTX\tUSA\tTYR: 1\n",
            "Unalakleet\tAK\tUSA\tUNK: 1\n",
            "Vail\tCO\tUSA\tEGE: 1\n",
            "Val-d'Or\tPQ\tCanada\tYVO: 1\n",
            "Valdez\tAK\tUSA\tVDZ: 1\n",
            "Valdosta\tGA\tUSA\tVLD: 1\n",
            "Vancouver\tBC\tCanada\tYVR: 1\n",
            "Victoria\tBC\tCanada\tYYJ: 1\n",
            "Victoria\tTX\tUSA\tVCT: 1\n",
            "Visalia\tCA\tUSA\tVIS: 1\n",
            "\"Wabush,: 1\n",
            "Labrador\"\tNF\tCanada\tYWK: 1\n",
            "Waco\tTX\tUSA\tACT: 1\n",
            "Walla: 1\n",
            "Walla\tWA\tUSA\tALW: 1\n",
            "Washington: 3\n",
            "DC\t\tUSA\tIAD: 1\n",
            "DC\t\tUSA\tDCA: 1\n",
            "DC\t\tUSA\tWAS: 1\n",
            "Waterloo\tIA\tUSA\tALO: 1\n",
            "Watertown\tNY\tUSA\tART: 1\n",
            "Watertown\tSD\tUSA\tATY: 1\n",
            "Wausau\tWI\tUSA\tCWA: 1\n",
            "Wenatchee\tWA\tUSA\tEAT: 1\n",
            "West: 2\n",
            "Beach\tFL\tUSA\tPBI: 1\n",
            "Yellowstone\tMT\tUSA\tWYS: 1\n",
            "White: 1\n",
            "Plains\tNY\tUSA\tHPN: 1\n",
            "Whitehorse\tYT\tCanada\tYXY: 1\n",
            "Wichita: 1\n",
            "Falls\tTX\tUSA\tSPS: 1\n",
            "Wichita\tKS\tUSA\tICT: 1\n",
            "Wilkes-Barre\tPA\tUSA\tAVP: 1\n",
            "Williams: 1\n",
            "Lake\tBC\tCanada\tYWL: 1\n",
            "Williamsport\tPA\tUSA\tIPT: 1\n",
            "Williston\tND\tUSA\tISN: 1\n",
            "Wilmington\tDE\tUSA\tILG: 1\n",
            "Wilmington\tNC\tUSA\tILM: 1\n",
            "Windsor\tON\tCanada\tYQG: 1\n",
            "Winnipeg\tMB\tCanada\tYWG: 1\n",
            "Wolf: 1\n",
            "Point\tMT\tUSA\tOLF: 1\n",
            "Worland\tWY\tUSA\tWRL: 1\n",
            "Wrangell\tAK\tUSA\tWRG: 1\n",
            "Yakima\tWA\tUSA\tYKM: 1\n",
            "Yakutat\tAK\tUSA\tYAK: 1\n",
            "Yellowknife\tNWT\tCanada\tYZF: 1\n",
            "Yuma\tAZ\tUSA\tYUM: 1\n"
          ]
        }
      ]
    },
    {
      "cell_type": "markdown",
      "metadata": {
        "id": "YSmhYTuZ486p"
      },
      "source": [
        "## <font color='green'>**Fin Ejercicio 4**</font>"
      ]
    },
    {
      "cell_type": "markdown",
      "source": [
        "# <font color='purple' style='bold' size=5>**EXPERIMENTO** </font>"
      ],
      "metadata": {
        "id": "2VnrtAVvPfUL"
      }
    },
    {
      "cell_type": "code",
      "source": [
        "# 1) Instalar PySpark (si aún no lo tienes):\n",
        "#    pip install pyspark\n",
        "\n",
        "from pyspark.sql import SparkSession\n",
        "\n",
        "def main():\n",
        "    # 2) Crear la sesión Spark en modo local\n",
        "    spark = SparkSession.builder \\\n",
        "        .appName(\"PequeñoExperimentoRDD\") \\\n",
        "        .master(\"local[*]\") \\\n",
        "        .getOrCreate()\n",
        "    sc = spark.sparkContext\n",
        "\n",
        "    # 3) Dataset de ejemplo: números del 1 al 100000\n",
        "    data = list(range(1, 100001))\n",
        "\n",
        "    # 4) Parallelize: crea un RDD con 4 particiones\n",
        "    rdd = sc.parallelize(data, numSlices=4)\n",
        "\n",
        "    # 5) Transformaciones:\n",
        "    #    a) map: elevar al cuadrado\n",
        "    squares = rdd.map(lambda x: x * x)\n",
        "    #    b) filter: quedarnos solo con los cuadrados pares\n",
        "    even_squares = squares.filter(lambda x: x % 2 == 0)\n",
        "\n",
        "    # 6) Acciones:\n",
        "    total_count = even_squares.count()       # número de elementos\n",
        "    sample      = even_squares.take(10)      # primeros 10 resultados\n",
        "    lineage     = even_squares.toDebugString()  # linaje (DAG)\n",
        "\n",
        "    # 7) Mostrar resultados\n",
        "    print(f\"Particiones: {rdd.getNumPartitions()}\")\n",
        "    print(f\"Total de cuadrados pares: {total_count}\")\n",
        "    print(\"Primeros 10 cuadrados pares:\", sample)\n",
        "    print(\"\\nLinaje (DAG) de las operaciones:\\n\", lineage)\n",
        "\n",
        "    # 8) Limpiar\n",
        "    spark.stop()\n",
        "\n",
        "if __name__ == \"__main__\":\n",
        "    main()\n",
        "\n"
      ],
      "metadata": {
        "colab": {
          "base_uri": "https://localhost:8080/"
        },
        "id": "Z4u6f1ulP2QA",
        "outputId": "b3edc684-28c5-4955-8962-0b7e82454796"
      },
      "execution_count": 59,
      "outputs": [
        {
          "output_type": "stream",
          "name": "stdout",
          "text": [
            "Particiones: 4\n",
            "Total de cuadrados pares: 50000\n",
            "Primeros 10 cuadrados pares: [4, 16, 36, 64, 100, 144, 196, 256, 324, 400]\n",
            "\n",
            "Linaje (DAG) de las operaciones:\n",
            " b'(4) PythonRDD[3] at RDD at PythonRDD.scala:53 []\\n |  ParallelCollectionRDD[0] at readRDDFromFile at PythonRDD.scala:289 []'\n"
          ]
        }
      ]
    },
    {
      "cell_type": "markdown",
      "source": [
        "Este codigo muestra como funcionan RDDs, sus transformaciones y acciones\n",
        "\n",
        "**Parallelize:** convierte una lista de Python en un RDD distribuido en 4 particiones.\n",
        "\n",
        "**map:** aplica la función anónima x * x a cada elemento, creando un nuevo RDD de cuadrados.\n",
        "\n",
        "**filter:** selecciona solo los cuadrados que sean pares.\n",
        "\n",
        "**count, take:** son acciones que traen información al controlador.\n",
        "\n",
        "**toDebugString:** imprime el DAG de dependencias, mostrando cómo Spark agrupa transformaciones en etapas.\n",
        "\n",
        "\n",
        "\n",
        "\n",
        "\n",
        "\n",
        "\n",
        "\n"
      ],
      "metadata": {
        "id": "MkNp1qLgQDHz"
      }
    },
    {
      "cell_type": "markdown",
      "source": [
        "# <font color='purple' style='bold' size=5>**FIN EXPERIMENTO** </font>"
      ],
      "metadata": {
        "id": "BQgxe4rPPcVh"
      }
    },
    {
      "cell_type": "markdown",
      "source": [
        "# <font color='purple' style='bold' size=5>**MATERIAL ADICIONAL** </font>"
      ],
      "metadata": {
        "id": "EAheCFnbPaL9"
      }
    },
    {
      "cell_type": "markdown",
      "source": [
        "**Curiosidades**\n",
        "\n",
        "Origen funcional\n",
        "Los RDDs están inspirados en las colecciones inmutables de lenguajes funcionales (como Scala): cada transformación devuelve un nuevo RDD sin modificar el existente¹.\n",
        "\n",
        "**Tolerancia a fallos vía linaje**\n",
        "\n",
        "En lugar de replicar todo el conjunto, Spark almacena únicamente el grafo de dependencias. Tras un fallo, recompone sólo las particiones perdidas re-ejecutando las transformaciones necesarias².\n",
        "\n",
        "**RDD vs DataFrame**\n",
        "\n",
        "**RDD:** total control, pero sin optimizaciones automáticas.\n",
        "\n",
        "**DataFrame/Dataset: **optimizaciones de Catalyst y Tungsten, mejor para SQL y consultas complejas³.\n",
        "\n",
        "**Buenas prácticas de rendimiento**\n",
        "\n",
        "Minimizar acciones: agrupa tantas transformaciones como sea posible antes de llamar a una acción (count, collect, etc.).\n",
        "\n",
        "Uso de mapPartitions: procesar particiones completas puede reducir la sobrecarga de llamada de función por elemento.\n",
        "\n",
        "Evitar collect() en grandes volúmenes: en su lugar, usa take(n) o escribe a disco con saveAsTextFile.\n",
        "\n"
      ],
      "metadata": {
        "id": "iWsSIzOlQgX0"
      }
    },
    {
      "cell_type": "markdown",
      "source": [
        "**Ejemplo de código: Conteo de palabras avanzado**"
      ],
      "metadata": {
        "id": "bXRi9m8RRbDQ"
      }
    },
    {
      "cell_type": "code",
      "source": [
        "from pyspark.sql import SparkSession\n",
        "from operator import add\n",
        "\n",
        "# Crear sesión Spark\n",
        "spark = SparkSession.builder \\\n",
        "    .appName(\"WordCountAvanzado\") \\\n",
        "    .master(\"local[*]\") \\\n",
        "    .getOrCreate()\n",
        "sc = spark.sparkContext\n",
        "\n",
        "# Leer texto y cachear\n",
        "text_rdd = sc.textFile('/content/drive/MyDrive/Gonzalo/CD - P2 BIG DATA/CLASE 1/airport-codes-na.txt').cache()\n",
        "\n",
        "# Conteo de palabras sin case-sensitive, eliminando signos de puntuación\n",
        "import re\n",
        "words = (text_rdd\n",
        "         .flatMap(lambda line: re.findall(r\"[A-Za-z]+\", line.lower()))\n",
        "         .map(lambda w: (w, 1)))\n",
        "\n",
        "# Particionar antes del reduce para balancear la carga\n",
        "words_part = words.partitionBy(8)\n",
        "\n",
        "# Reducir y obtener las 10 palabras más frecuentes\n",
        "counts = words_part.reduceByKey(add)\n",
        "top10 = counts.takeOrdered(10, key=lambda kv: -kv[1])\n",
        "\n",
        "print(\"Top 10 palabras:\")\n",
        "for word, cnt in top10:\n",
        "    print(f\"{word}: {cnt}\")\n",
        "\n",
        "spark.stop()\n"
      ],
      "metadata": {
        "colab": {
          "base_uri": "https://localhost:8080/"
        },
        "id": "-CRdkEqZRDSy",
        "outputId": "81c5c040-91ab-4cd1-f470-3c23b76a54a5"
      },
      "execution_count": 63,
      "outputs": [
        {
          "output_type": "stream",
          "name": "stdout",
          "text": [
            "Top 10 palabras:\n",
            "usa: 445\n",
            "canada: 81\n",
            "ca: 29\n",
            "tx: 26\n",
            "ak: 25\n",
            "bc: 22\n",
            "ny: 18\n",
            "mi: 18\n",
            "fl: 18\n",
            "city: 18\n"
          ]
        }
      ]
    },
    {
      "cell_type": "markdown",
      "source": [
        "**Referencias bibliográficas**\n",
        "\n",
        "Matei Zaharia et al., Resilient Distributed Datasets: A Fault-Tolerant Abstraction for In-Memory Cluster Computing, 2012.\n",
        "\n",
        "Apache Spark Project, RDD Programming Guide, versión 3.5.5, 2025.\n",
        "\n",
        "Reynold Xin et al., Tungsten: A Scalable Memory-Optimized Engine for Spark, SIGMOD 2015."
      ],
      "metadata": {
        "id": "9R6ysaKNRoZP"
      }
    },
    {
      "cell_type": "markdown",
      "source": [
        "# <font color='purple' style='bold' size=5>**FIN MATERIAL ADICIONAL** </font>"
      ],
      "metadata": {
        "id": "GU_flQ0-PZWy"
      }
    }
  ]
}